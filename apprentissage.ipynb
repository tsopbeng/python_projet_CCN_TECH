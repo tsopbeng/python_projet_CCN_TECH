{
 "cells": [
  {
   "cell_type": "code",
   "execution_count": 1,
   "id": "7c832e2a",
   "metadata": {},
   "outputs": [
    {
     "name": "stderr",
     "output_type": "stream",
     "text": [
      "<>:1: SyntaxWarning: invalid decimal literal\n",
      "<>:1: SyntaxWarning: invalid decimal literal\n",
      "C:\\Users\\DataVault\\AppData\\Local\\Temp\\ipykernel_8480\\79336059.py:1: SyntaxWarning: invalid decimal literal\n",
      "  if 5=3if 5=3:\n"
     ]
    },
    {
     "ename": "SyntaxError",
     "evalue": "cannot assign to literal here. Maybe you meant '==' instead of '='? (79336059.py, line 1)",
     "output_type": "error",
     "traceback": [
      "\u001b[1;36m  Cell \u001b[1;32mIn[1], line 1\u001b[1;36m\u001b[0m\n\u001b[1;33m    if 5=3if 5=3:\u001b[0m\n\u001b[1;37m       ^\u001b[0m\n\u001b[1;31mSyntaxError\u001b[0m\u001b[1;31m:\u001b[0m cannot assign to literal here. Maybe you meant '==' instead of '='?\n"
     ]
    }
   ],
   "source": [
    "if 5=3if 5=3:\n",
    "    print('yep')"
   ]
  },
  {
   "cell_type": "code",
   "execution_count": null,
   "id": "1bf321c1",
   "metadata": {},
   "outputs": [],
   "source": [
    "if 5=3:\n",
    "    print('yep')"
   ]
  },
  {
   "cell_type": "code",
   "execution_count": null,
   "id": "404af6d8",
   "metadata": {},
   "outputs": [],
   "source": [
    "if 5==5:\n",
    "    print('yep')"
   ]
  },
  {
   "cell_type": "code",
   "execution_count": null,
   "id": "2d3e59eb",
   "metadata": {},
   "outputs": [],
   "source": [
    "if 5==3:\n",
    "    print('yep')\n",
    "elif 6==6:\n",
    "    print('yeP')"
   ]
  },
  {
   "cell_type": "markdown",
   "id": "c9a8e946",
   "metadata": {},
   "source": [
    "en python on dit 'elif'au lieu de 'else if'\n"
   ]
  },
  {
   "cell_type": "markdown",
   "id": "7c069550",
   "metadata": {},
   "source": [
    "CONDITION FOR EN Python\n",
    "SYTHAXE:\n",
    "\n",
    "for variable in sequence:\n",
    "   #bloc de coe à executer pour chaque element\n",
    "   instruction_1\n",
    "   instruction_2#\n",
    "  \n",
    "  variable : c'est la variable temporaire qui prendra la valeur de chaque élément de la sequence à chaque iteration de la boucle.\n",
    "  vous pouvez choisir n\"importe quel nom de variable valide\n",
    "  \n",
    "  séquence : c'est l'ensemble des elements que vous souhaitez parcourir. cela peut etre une liste; un tuple; une chaine de caracteres; un objet\n",
    "  \n",
    "  #bloc de code à executer pour chaque élément :\n",
    "  toutes les intructions indentees sous la ligne forseront exécutées une fois pour chaque element de la séquence\n",
    "  \n",
    "  EXEMPLES \n",
    " *PARCOURIR UNE LISTE\n",
    "  "
   ]
  },
  {
   "cell_type": "code",
   "execution_count": null,
   "id": "ca0f9cfa",
   "metadata": {},
   "outputs": [],
   "source": [
    "fruits=[\"pomme\",\"banane\",\"cerise\"]\n",
    "for fruit in fruits:\n",
    "    print(\"j'aime les fruits\")"
   ]
  },
  {
   "cell_type": "code",
   "execution_count": null,
   "id": "dbef630f",
   "metadata": {},
   "outputs": [],
   "source": [
    "fruits=[\"pomme\",\"banane\",\"cerise\"]\n",
    "for fruits in fruits:\n",
    "    print(\"j'aime les fruits\")"
   ]
  },
  {
   "cell_type": "markdown",
   "id": "a04c6514",
   "metadata": {},
   "source": [
    "la variable fruit prendra successivement les valeurs \"pomme\",\"banane\"et\"cerise\". pour chaque valeur la ligne print(\"j'aime les fruits\") "
   ]
  },
  {
   "cell_type": "markdown",
   "id": "6a1875eb",
   "metadata": {},
   "source": [
    "*-parcourir une chaine de caractères :"
   ]
  },
  {
   "cell_type": "code",
   "execution_count": null,
   "id": "acc31e99",
   "metadata": {},
   "outputs": [],
   "source": [
    "mot=\"python\"\n",
    "for lettre in mot:\n",
    "    print(lettre)"
   ]
  },
  {
   "cell_type": "markdown",
   "id": "3196608c",
   "metadata": {},
   "source": [
    "ici la variable lettre prendra chaque caractère de la chaine \"python\""
   ]
  },
  {
   "cell_type": "code",
   "execution_count": null,
   "id": "546ff0da",
   "metadata": {},
   "outputs": [],
   "source": []
  },
  {
   "cell_type": "code",
   "execution_count": null,
   "id": "accc0d28",
   "metadata": {},
   "outputs": [],
   "source": [
    "\n",
    " for nombre  in list(range(5)):\n",
    "    print('nombre')"
   ]
  },
  {
   "cell_type": "markdown",
   "id": "df3c0233",
   "metadata": {},
   "source": [
    "\n",
    "     for nombre  in list(range(5)):\n",
    "    print('nombre')"
   ]
  },
  {
   "cell_type": "markdown",
   "id": "737e5d41",
   "metadata": {},
   "source": [
    "Définir une fonction en Python :\n",
    "\n",
    "Utilise le mot-clé def suivi du nom de la fonction, de parenthèses () pour les éventuels paramètres, et de deux-points :. Le bloc de code de la fonction est indenté en dessous.\n",
    "\n",
    "def nom_de_la_fonction(parametre1, parametre2, ...):\n",
    "  \"\"\"Documentation de la fonction (facultatif mais recommandé).\"\"\"\n",
    "  #Instructions à exécuter \n",
    "  resultat = une_operation\n",
    "  return resultat # Retourne une valeur (facultatif)\n",
    "  \n",
    "  \"\"\"Documentation\"\"\" (docstring) : Chaîne de caractères expliquant ce que fait la fonction. Bonne pratique !\n",
    "\n",
    "(parametre1, parametre2, ...) : Arguments que la fonction peut recevoir (zéro, un ou plusieurs).\n",
    "  \n",
    "  nom_de_la_fonction : Nom que tu utiliseras pour appeler la fonction."
   ]
  },
  {
   "cell_type": "code",
   "execution_count": null,
   "id": "528dac37",
   "metadata": {},
   "outputs": [],
   "source": [
    "def moitié ():\n",
    "    print('nombre%2')"
   ]
  },
  {
   "cell_type": "code",
   "execution_count": null,
   "id": "1977cad1",
   "metadata": {},
   "outputs": [],
   "source": [
    "moitié()"
   ]
  },
  {
   "cell_type": "code",
   "execution_count": null,
   "id": "62fcdb79",
   "metadata": {},
   "outputs": [],
   "source": [
    "def moitié (nombre):\n",
    "    moitié = nombre /2\n",
    "    return moitié \n",
    "    "
   ]
  },
  {
   "cell_type": "code",
   "execution_count": null,
   "id": "241c7de4",
   "metadata": {},
   "outputs": [],
   "source": [
    "moitié (10)"
   ]
  },
  {
   "cell_type": "code",
   "execution_count": null,
   "id": "a92aaac2",
   "metadata": {},
   "outputs": [],
   "source": [
    "def moitie(nombre):\n",
    "    '''la fonction moitie(nombre) calcule ma moitié dun nombre'''\n",
    "    nombre=nombre/2\n",
    "    return nombre"
   ]
  },
  {
   "cell_type": "code",
   "execution_count": null,
   "id": "3c707b90",
   "metadata": {},
   "outputs": [],
   "source": [
    "moitie(5)"
   ]
  },
  {
   "cell_type": "code",
   "execution_count": null,
   "id": "2406f549",
   "metadata": {},
   "outputs": [],
   "source": [
    "def carre(x):\n",
    "    x=x*x\n",
    "    return x"
   ]
  },
  {
   "cell_type": "code",
   "execution_count": null,
   "id": "bff41451",
   "metadata": {},
   "outputs": [],
   "source": [
    "y=carre(8)"
   ]
  },
  {
   "cell_type": "code",
   "execution_count": null,
   "id": "dd3396e9",
   "metadata": {},
   "outputs": [],
   "source": [
    "y"
   ]
  },
  {
   "cell_type": "code",
   "execution_count": null,
   "id": "6e6ad9bc",
   "metadata": {},
   "outputs": [],
   "source": [
    "type (y)"
   ]
  },
  {
   "cell_type": "markdown",
   "id": "6372c60a",
   "metadata": {},
   "source": [
    "Absolument ! La fonction filter() en Python, c'est comme un tamis pour tes collections de données (listes, tuples, etc.).\n",
    "\n",
    "Tu lui donnes deux choses :\n",
    "\n",
    "Une règle (une fonction) : Cette règle dit à filter() si un élément doit passer à travers le tamis (True) ou être retenu (False).\n",
    "Une collection de choses à tamiser : C'est ta liste, ton tuple, etc.\n",
    "filter() va ensuite appliquer ta règle à chaque élément de ta collection. À la fin, il te donne un nouvel \"objet\" (un itérateur) qui contient seulement les éléments qui ont passé la règle (ceux pour lesquels ta fonction a renvoyé True).\n",
    "\n",
    "Pour voir concrètement les éléments qui ont passé, tu dois  souvent transformer cet \"objet\" en une liste, par exemple avec list(filter(ta_regle, ta_collection)).\n",
    "\n"
   ]
  },
  {
   "cell_type": "markdown",
   "id": "92268e84",
   "metadata": {},
   "source": [
    "En termes plus techniques, filter(fonction, iterable) prend deux arguments :\n",
    "\n",
    "fonction: Une fonction qui prend un élément de l'iterable en argument et renvoie soit True si l'élément doit être inclus dans le résultat, soit False dans le cas contraire. Cette fonction est souvent appelée une fonction de prédicat.\n",
    "\n",
    "iterable: Une séquence (comme une liste, un tuple, ou un autre itérable) que tu souhaites filtrer.\n",
    "\n",
    "La fonction filter renvoie un itérateur, ce qui signifie qu'elle ne calcule les résultats qu'au fur et à mesure que tu en as besoin. Pour voir les éléments filtrés, tu dois généralement convertir cet itérateur en une liste ou un autre type de séquence."
   ]
  },
  {
   "cell_type": "markdown",
   "id": "231b6a76",
   "metadata": {},
   "source": [
    "Maintenant, décortiquons ton code "
   ]
  },
  {
   "cell_type": "code",
   "execution_count": null,
   "id": "e28848ae",
   "metadata": {},
   "outputs": [],
   "source": [
    "def est_pair(nombre):\n",
    "    return nombre % 2 == 0\n",
    "\n",
    "nombres = [1, 2, 3, 4, 5, 6]\n",
    "nombres_pairs = filter(est_pair, nombres)\n",
    "print(list(nombres_pairs))"
   ]
  },
  {
   "cell_type": "markdown",
   "id": "724daf79",
   "metadata": {},
   "source": [
    "def est_pair(nombre):: Ici, tu définis une fonction nommée est_pair qui prend un argument nombre.\n",
    "\n",
    "return nombre % 2 == 0: Cette ligne calcule le reste de la division de nombre par 2. Si le reste est 0, cela signifie que le nombre est pair, et la fonction renvoie True. Sinon, elle renvoie False.\n",
    "\n",
    "nombres = [1, 2, 3, 4, 5, 6]: Tu crées une liste d'entiers appelée nombres.\n",
    "\n",
    "nombres_pairs = filter(est_pair, nombres): C'est ici que la magie opère ! Tu appliques la fonction filter. Elle prend chaque élément de la liste nombres et l'envoie à la fonction est_pair. Seuls les nombres pour lesquels est_pair renvoie True (c'est-à-dire les nombres pairs) seront inclus dans l'itérateur résultant."
   ]
  },
  {
   "cell_type": "code",
   "execution_count": null,
   "id": "92047a25",
   "metadata": {},
   "outputs": [],
   "source": []
  },
  {
   "cell_type": "markdown",
   "id": "27586c0d",
   "metadata": {},
   "source": [
    ".lower(): Cette méthode retourne une nouvelle chaîne de caractères où toutes les lettres de la chaîne d'origine sont converties en minuscules. Les autres caractères (chiffres, symboles, espaces) restent inchangés."
   ]
  },
  {
   "cell_type": "code",
   "execution_count": null,
   "id": "a542f661",
   "metadata": {},
   "outputs": [],
   "source": [
    "texte = \"Bonjour le Monde!\"\n",
    "minuscule = texte.lower()\n",
    "print(minuscule)  "
   ]
  },
  {
   "cell_type": "markdown",
   "id": "05ce22bc",
   "metadata": {},
   "source": [
    ".upper(): Similaire à .lower(), mais cette méthode retourne une nouvelle chaîne où toutes les lettres sont converties en MAJUSCULES. Les autres caractères ne sont pas affectés."
   ]
  },
  {
   "cell_type": "code",
   "execution_count": null,
   "id": "8d857a69",
   "metadata": {},
   "outputs": [],
   "source": [
    "texte = \"Bonjour le Monde!\"\n",
    "majuscule = texte.upper()\n",
    "print(majuscule)  "
   ]
  },
  {
   "cell_type": "markdown",
   "id": "65176427",
   "metadata": {},
   "source": [
    "Imagine que tu as une longue ficelle de mots et que tu veux la couper en plusieurs petites ficelles à des endroits précis. La méthode .split() fait exactement cela avec une chaîne de caractères. Elle prend une chaîne et la divise en une liste de sous-chaînes.\n",
    "\n",
    "La façon dont la chaîne est coupée dépend de l'argument optionnel sep (abréviation de \"séparateur\") que tu lui donnes :\n",
    "\n",
    "Si tu ne donnes pas de sep (ou si tu mets None) : Python va automatiquement chercher les espaces blancs (espaces simples, tabulations \\t, sauts de ligne \\n) dans ta chaîne. Chaque fois qu'il en trouve un, il coupe la chaîne à cet endroit. Les espaces blancs utilisés comme séparateurs ne sont pas inclus dans les morceaux résultants"
   ]
  },
  {
   "cell_type": "code",
   "execution_count": null,
   "id": "489504fd",
   "metadata": {},
   "outputs": [],
   "source": [
    "phrase = \"Le chien court vite.\"\n",
    "mots = phrase.split()\n",
    "print(mots)"
   ]
  },
  {
   "cell_type": "code",
   "execution_count": null,
   "id": "8cc58fbb",
   "metadata": {},
   "outputs": [],
   "source": [
    "texte_avec_tab = \"ligne1\\tligne2\\nligne3\"\n",
    "lignes = texte_avec_tab.split()\n",
    "print(lignes)"
   ]
  },
  {
   "cell_type": "markdown",
   "id": "9a07d602",
   "metadata": {},
   "source": [
    "Si tu donnes un sep spécifique (une autre chaîne de caractères) : Python va chercher chaque occurrence de cette chaîne sep dans ta chaîne d'origine et couper à ces endroits. Le sep lui-même est supprimé des morceaux résultants."
   ]
  },
  {
   "cell_type": "code",
   "execution_count": null,
   "id": "0318ef05",
   "metadata": {},
   "outputs": [],
   "source": [
    "nombres_str = \"1,2,3,4,5\"\n",
    "nombres_liste = nombres_str.split(\",\")\n",
    "print(nombres_liste)"
   ]
  },
  {
   "cell_type": "code",
   "execution_count": null,
   "id": "fced8d48",
   "metadata": {},
   "outputs": [],
   "source": [
    "chemin_fichier = \"/usr/local/bin\"\n",
    "dossiers = chemin_fichier.split(\"/\")\n",
    "print(dossiers)  "
   ]
  },
  {
   "cell_type": "code",
   "execution_count": null,
   "id": "0af76a2c",
   "metadata": {},
   "outputs": [],
   "source": [
    "phrase_avec_point_virgule = \"mot1;mot2;mot3;\"\n",
    "elements = phrase_avec_point_virgule.split(\";\")\n",
    "print(elements) "
   ]
  },
  {
   "cell_type": "markdown",
   "id": "cffd5ce1",
   "metadata": {},
   "source": [
    ".split() est une méthode essentielle pour transformer une chaîne de caractères en une liste de sous-chaînes, en utilisant soit les espaces par défaut, soit un séparateur que tu définis. C'est très utile pour traiter des données textuelles, comme lire des fichiers CSV (où les valeurs sont souvent séparées par des virgules) ou analyser des commandes utilisateur"
   ]
  },
  {
   "cell_type": "code",
   "execution_count": null,
   "id": "4ea4c69c",
   "metadata": {},
   "outputs": [],
   "source": []
  },
  {
   "cell_type": "markdown",
   "id": "477c1379",
   "metadata": {},
   "source": [
    "En Python, il existe plusieurs façons de supprimer un élément d'une liste, chacune ayant ses propres cas d'utilisation \n",
    "\n",
    "1. pop() (suppression par index et récupération de la valeur) :\n",
    "La méthode pop() supprime l'élément à un index spécifique et retourne la valeur de l'élément supprimé.\n",
    "Si aucun index n'est spécifié, pop() supprime et retourne le dernier élément de la liste."
   ]
  },
  {
   "cell_type": "code",
   "execution_count": null,
   "id": "c6210466",
   "metadata": {},
   "outputs": [],
   "source": [
    "ma_liste = [100, 200, 300, 400]\n",
    "element_supprime = ma_liste.pop(1)  \n",
    "print(ma_liste)       "
   ]
  },
  {
   "cell_type": "code",
   "execution_count": null,
   "id": "2e058093",
   "metadata": {},
   "outputs": [],
   "source": [
    "print(element_supprime)"
   ]
  },
  {
   "cell_type": "code",
   "execution_count": null,
   "id": "45aa6fec",
   "metadata": {},
   "outputs": [],
   "source": [
    "ma_liste = [100,300,400]\n",
    "dernier_element = ma_liste.pop()  \n",
    "print(ma_liste)       "
   ]
  },
  {
   "cell_type": "code",
   "execution_count": null,
   "id": "5e22e7b4",
   "metadata": {},
   "outputs": [],
   "source": [
    "print(dernier_element)"
   ]
  },
  {
   "cell_type": "markdown",
   "id": "bb5a4c23",
   "metadata": {},
   "source": [
    " "
   ]
  },
  {
   "cell_type": "markdown",
   "id": "70d44da4",
   "metadata": {},
   "source": [
    "NUMPY"
   ]
  },
  {
   "cell_type": "markdown",
   "id": "39dfc857",
   "metadata": {},
   "source": [
    "TABLEAU NUMPY"
   ]
  },
  {
   "cell_type": "markdown",
   "id": "c33b12cd",
   "metadata": {},
   "source": [
    "pour creer un tableau numpy on peut le faire par:\n",
    "-transformation de listes python standards en tableau numpy\n",
    "-utilisation de fonction intégrées\n",
    "-generation de donnees aleatoires"
   ]
  },
  {
   "cell_type": "markdown",
   "id": "8f396d78",
   "metadata": {},
   "source": [
    "Pour utiliser NumPy dans votre code Python, vous devez d'abord l'importer. La convention la plus courante est d'importer NumPy avec l'alias np. Cela rend le code plus concis et lisible."
   ]
  },
  {
   "cell_type": "code",
   "execution_count": null,
   "id": "10225c9c",
   "metadata": {},
   "outputs": [],
   "source": [
    "import numpy as np"
   ]
  },
  {
   "cell_type": "code",
   "execution_count": null,
   "id": "153db68f",
   "metadata": {},
   "outputs": [],
   "source": [
    "my_list = [[1,2,3],[4,5,6],[7,8,9]]"
   ]
  },
  {
   "cell_type": "code",
   "execution_count": null,
   "id": "65f3c08b",
   "metadata": {},
   "outputs": [],
   "source": [
    "type(my_list)"
   ]
  },
  {
   "cell_type": "code",
   "execution_count": null,
   "id": "2b89db4b",
   "metadata": {},
   "outputs": [],
   "source": [
    "my_list=np.array(my_list)"
   ]
  },
  {
   "cell_type": "markdown",
   "id": "cc771c95",
   "metadata": {},
   "source": [
    "my_list"
   ]
  },
  {
   "cell_type": "markdown",
   "id": "15a7ea4d",
   "metadata": {},
   "source": [
    "type(my_list)"
   ]
  },
  {
   "cell_type": "code",
   "execution_count": null,
   "id": "b5a7a95b",
   "metadata": {},
   "outputs": [],
   "source": []
  },
  {
   "cell_type": "markdown",
   "id": "341f2b4d",
   "metadata": {},
   "source": [
    "voici un résumé concis de la différence entre np.arange et range() :\n",
    "\n",
    "range() (Python natif) :\n",
    "\n",
    "Crée un objet itérable (pas une liste directement).\n",
    "Principalement utilisé pour les boucles for.\n",
    "Accepte uniquement des pas entiers.\n",
    "Optimisé pour l'itération.\n",
    "np.arange() (NumPy) :\n",
    "\n",
    "Crée un tableau NumPy (ndarray).\n",
    "Conçu pour le calcul numérique et la manipulation de données.\n",
    "Accepte des pas entiers et flottants.\n",
    "Optimisé pour les opérations vectorielles et offre plus de fonctionnalités.\n",
    "En bref, utilisez range() pour itérer et np.arange() pour créer des séquences numériques pour le calcul."
   ]
  },
  {
   "cell_type": "code",
   "execution_count": null,
   "id": "9824a71e",
   "metadata": {},
   "outputs": [],
   "source": [
    "# Utilisation de range()\n",
    "for i in range(5):\n",
    "    print(i)"
   ]
  },
  {
   "cell_type": "code",
   "execution_count": null,
   "id": "e0648183",
   "metadata": {},
   "outputs": [],
   "source": [
    "liste_nombres = list(range(0, 10, 2))\n",
    "print(liste_nombres)"
   ]
  },
  {
   "cell_type": "code",
   "execution_count": null,
   "id": "56eaf98c",
   "metadata": {},
   "outputs": [],
   "source": [
    " for i in range(0, 1, 0.1):\n",
    "    print(i)\n"
   ]
  },
  {
   "cell_type": "markdown",
   "id": "60aa3941",
   "metadata": {},
   "source": [
    "Tentative d'utiliser un pas flottant avec range() (génère une erreur)"
   ]
  },
  {
   "cell_type": "code",
   "execution_count": null,
   "id": "867d57bf",
   "metadata": {},
   "outputs": [],
   "source": [
    "Utilisation de np.arange()"
   ]
  },
  {
   "cell_type": "code",
   "execution_count": null,
   "id": "4c5d25e6",
   "metadata": {},
   "outputs": [],
   "source": [
    "import numpy as np"
   ]
  },
  {
   "cell_type": "code",
   "execution_count": null,
   "id": "6c4c5d97",
   "metadata": {},
   "outputs": [],
   "source": [
    "tableau_nombres = np.arange(5)\n",
    "print(tableau_nombres)"
   ]
  },
  {
   "cell_type": "code",
   "execution_count": null,
   "id": "703235fe",
   "metadata": {},
   "outputs": [],
   "source": [
    "tableau_flottant = np.arange(0, 1, 0.1)\n",
    "print(tableau_flottant)"
   ]
  },
  {
   "cell_type": "code",
   "execution_count": null,
   "id": "65727fe7",
   "metadata": {},
   "outputs": [],
   "source": [
    "type(tableau_flottant)"
   ]
  },
  {
   "cell_type": "markdown",
   "id": "b573c29f",
   "metadata": {},
   "source": [
    "np.zeros() est une fonction fondamentale dans la librairie NumPy qui vous permet de créer et d'initialiser des tableaux remplis de zéros. C'est extrêmement utile pour plusieurs raisons dans le domaine du calcul numérique et de la science des données.\n",
    "\n",
    "Syntaxe générale :\n",
    "np.zeros(shape, dtype=float, order='C', *, like=None)\n",
    "\n",
    "Explication des arguments :\n",
    "\n",
    "shape : (tuple d'entiers)\n",
    "Définit la forme (les dimensions) du tableau que vous souhaitez créer.\n",
    "Pour un tableau unidimensionnel (vecteur), shape est un tuple avec un seul élément (par exemple, (5,)).\n",
    "Pour un tableau bidimensionnel (matrice), shape est un tuple avec deux éléments (nombre de lignes, nombre de colonnes), par exemple (3, 4).\n",
    "Cela s'étend à des tableaux de dimensions supérieures (tenseurs).\n",
    "dtype : (type de données optionnel, par défaut float)\n",
    "\n",
    "Spécifie le type de données des éléments du tableau.\n",
    "Les types courants incluent int, float, complex, bool, etc.\n",
    "Si non spécifié, le type par défaut est numpy.float64.\n",
    "order : ({'C', 'F'}, optionnel, par défaut 'C')\n",
    "\n",
    "Spécifie l'ordre de stockage des données dans la mémoire.\n",
    "'C' signifie ordre de type C (row-major), où la dernière dimension varie le plus rapidement.\n",
    "'F' signifie ordre de type Fortran (column-major), où la première dimension varie le plus rapidement.\n",
    "En général, vous n'aurez pas besoin de modifier cet argument.\n",
    "like : (array_like, optionnel)\n",
    "\n",
    "Permet de créer un tableau avec la même forme et le même type de données qu'un autre tableau existant. Le résultat aura la même forme et le même dtype que l'objet like, mais sera rempli de zéros."
   ]
  },
  {
   "cell_type": "markdown",
   "id": "f4a81ee9",
   "metadata": {},
   "source": [
    "Exemples d'utilisation :\n",
    "Créer un vecteur de 5 zéros (type float par défaut) :"
   ]
  },
  {
   "cell_type": "code",
   "execution_count": null,
   "id": "c969019f",
   "metadata": {},
   "outputs": [],
   "source": [
    "import numpy as np\n",
    "vecteur_zeros = np.zeros(5)\n",
    "print(vecteur_zeros)"
   ]
  },
  {
   "cell_type": "markdown",
   "id": "8b38611e",
   "metadata": {},
   "source": [
    "Créer une matrice 3x4 de zéros (type entier) :"
   ]
  },
  {
   "cell_type": "code",
   "execution_count": null,
   "id": "6c61acfc",
   "metadata": {},
   "outputs": [],
   "source": [
    "matrice_zeros = np.zeros((3, 4), dtype=int)\n",
    "print(matrice_zeros)"
   ]
  },
  {
   "cell_type": "markdown",
   "id": "e852d965",
   "metadata": {},
   "source": [
    "Créer un tenseur 2x3x2 de zéros (type complexe) :"
   ]
  },
  {
   "cell_type": "code",
   "execution_count": null,
   "id": "448c5150",
   "metadata": {},
   "outputs": [],
   "source": [
    "tenseur_zeros = np.zeros((2, 3, 2), dtype=complex)\n",
    "print(tenseur_zeros)"
   ]
  },
  {
   "cell_type": "code",
   "execution_count": null,
   "id": "ac1af11a",
   "metadata": {},
   "outputs": [],
   "source": [
    "un_tableau_existant = np.array([[1, 2], [3, 4]], dtype=float)\n",
    "tableau_zeros_similaire = np.zeros_like(un_tableau_existant)\n",
    "print(tableau_zeros_similaire)"
   ]
  },
  {
   "cell_type": "code",
   "execution_count": null,
   "id": "dd28d7ad",
   "metadata": {},
   "outputs": [],
   "source": []
  },
  {
   "cell_type": "code",
   "execution_count": null,
   "id": "e16d4b70",
   "metadata": {},
   "outputs": [],
   "source": [
    "np.linspace(2,8,4)"
   ]
  },
  {
   "cell_type": "markdown",
   "id": "9d9657dd",
   "metadata": {},
   "source": [
    "la fonction linspace permet de donner un tableau numpy d'element \n",
    "la syntaxe est : np.linspace(num1,num2,num3)\n",
    "le tableau doit contenir un nombre 'num3' d'element compris entre [num1;num2] . les elements du tableaux numpy doivent être espacé d'un même intervalle"
   ]
  },
  {
   "cell_type": "code",
   "execution_count": null,
   "id": "8dbf227a",
   "metadata": {},
   "outputs": [],
   "source": [
    "len(np.linspace(2,8,4))"
   ]
  },
  {
   "cell_type": "markdown",
   "id": "67a0efc4",
   "metadata": {},
   "source": [
    "la methode len() permet de connaitre la longeur(ou nombre d'element) d'un tableau ou liste"
   ]
  },
  {
   "cell_type": "code",
   "execution_count": null,
   "id": "db6a3a49",
   "metadata": {},
   "outputs": [],
   "source": []
  },
  {
   "cell_type": "markdown",
   "id": "99bf648a",
   "metadata": {},
   "source": [
    "distribution de donnée aleatoire "
   ]
  },
  {
   "cell_type": "markdown",
   "id": "7785677c",
   "metadata": {},
   "source": [
    "np.random.rand() permet de donnée une distrution de donnees de facon aleatoire comprise entre [0,1[\n",
    " c'est une distribution uniforme c'est a dire que tous les nombres respectant l'intervalle ont autant de chance d'être sélectionné \n",
    " ]on peut ajouter un argument a cette fonction pour definir le nombre de de donnée aleatoire a ressortir dans le tableau"
   ]
  },
  {
   "cell_type": "code",
   "execution_count": null,
   "id": "730c36a7",
   "metadata": {},
   "outputs": [],
   "source": [
    "np.random.rand()"
   ]
  },
  {
   "cell_type": "code",
   "execution_count": null,
   "id": "d451f0dd",
   "metadata": {},
   "outputs": [],
   "source": [
    "np.random.rand(4)"
   ]
  },
  {
   "cell_type": "code",
   "execution_count": null,
   "id": "f16c1683",
   "metadata": {},
   "outputs": [],
   "source": [
    "np.random.rand(2,3)"
   ]
  },
  {
   "cell_type": "markdown",
   "id": "d40d5b2b",
   "metadata": {},
   "source": [
    "np.random.randn() permet de donnée une distrution de donnees de facon aleatoire mais tenons ben compte que les nombres proches de 0 on une probabilite plus grande d'être sélectionné et on peut retrouver des nombres negatif"
   ]
  },
  {
   "cell_type": "code",
   "execution_count": null,
   "id": "3cffb944",
   "metadata": {},
   "outputs": [],
   "source": [
    "import numpy as np\n",
    "np.random.randn(2,3)"
   ]
  },
  {
   "cell_type": "code",
   "execution_count": null,
   "id": "307f9c29",
   "metadata": {},
   "outputs": [],
   "source": [
    "np.random.randint(0,3,5)"
   ]
  },
  {
   "cell_type": "code",
   "execution_count": null,
   "id": "2f30e3b8",
   "metadata": {},
   "outputs": [],
   "source": [
    "random_int = np.random.randint(10)\n",
    "print(f\"Entier aléatoire entre 0 et 9: {random_int}\")"
   ]
  },
  {
   "cell_type": "markdown",
   "id": "223538b5",
   "metadata": {},
   "source": [
    "#Générer un entier aléatoire entre 0 (inclus) et 10 (exclus)"
   ]
  },
  {
   "cell_type": "code",
   "execution_count": null,
   "id": "b319a570",
   "metadata": {},
   "outputs": [],
   "source": [
    "random_int_range = np.random.randint(5, 15)\n",
    "print(f\"Entier aléatoire entre 5 et 14: {random_int_range}\")"
   ]
  },
  {
   "cell_type": "markdown",
   "id": "d92cb855",
   "metadata": {},
   "source": [
    "#Générer un entier aléatoire entre 5 (inclus) et 15 (exclus)"
   ]
  },
  {
   "cell_type": "code",
   "execution_count": null,
   "id": "2f0f86b9",
   "metadata": {},
   "outputs": [],
   "source": [
    "random_array_1d = np.random.randint(0, 10, 5)\n",
    "print(f\"Tableau 1D d'entiers aléatoires: {random_array_1d}\")"
   ]
  },
  {
   "cell_type": "markdown",
   "id": "5f0da3cd",
   "metadata": {},
   "source": [
    "#Générer un tableau 1D de 5 entiers aléatoires entre 0 (inclus) et 10 (exclus)"
   ]
  },
  {
   "cell_type": "code",
   "execution_count": null,
   "id": "6f0cd745",
   "metadata": {},
   "outputs": [],
   "source": [
    "random_array_2d = np.random.randint(-5, 5, (3, 2))\n",
    "print(f\"Tableau 2D d'entiers aléatoires:\\n{random_array_2d}\")"
   ]
  },
  {
   "cell_type": "markdown",
   "id": "7580cee4",
   "metadata": {},
   "source": [
    "#Générer un tableau 2D (3x2) d'entiers aléatoires entre -5 (inclus) et 5 (exclus)"
   ]
  },
  {
   "cell_type": "code",
   "execution_count": null,
   "id": "737677b7",
   "metadata": {},
   "outputs": [],
   "source": [
    "random_int_inclusive = np.random.randint(1, 11)\n",
    "print(f\"Entier aléatoire entre 1 et 10 (inclus): {random_int_inclusive}\")"
   ]
  },
  {
   "cell_type": "code",
   "execution_count": null,
   "id": "a862a296",
   "metadata": {},
   "outputs": [],
   "source": [
    "random_int_inclusive = np.random.randint(1, 11)\n",
    "print(f\"Entier aléatoire entre 1 et 10 (inclus): {random_int_inclusive}\")"
   ]
  },
  {
   "cell_type": "markdown",
   "id": "9a7916c5",
   "metadata": {},
   "source": [
    " Générer un seul entier aléatoire dans un intervalle [1, 10]"
   ]
  },
  {
   "cell_type": "code",
   "execution_count": null,
   "id": "c7aa7b6a",
   "metadata": {},
   "outputs": [],
   "source": [
    "random_array_multi_high = np.random.randint(1, [5, 10, 15])\n",
    "print(f\"Tableau avec bornes supérieures variables: {random_array_multi_high}\")"
   ]
  },
  {
   "cell_type": "markdown",
   "id": "0818ed7f",
   "metadata": {},
   "source": [
    "#Générer un tableau avec des bornes supérieures différentes pour chaque colonne"
   ]
  },
  {
   "cell_type": "code",
   "execution_count": null,
   "id": "2b264fb0",
   "metadata": {},
   "outputs": [],
   "source": [
    "random_array_multi_low = np.random.randint([1, 5], 10)\n",
    "print(f\"Tableau avec bornes inférieures variables: {random_array_multi_low}\")"
   ]
  },
  {
   "cell_type": "markdown",
   "id": "7859ebb0",
   "metadata": {},
   "source": [
    "#Générer un tableau avec des bornes inférieures différentes pour chaque ligne"
   ]
  },
  {
   "cell_type": "markdown",
   "id": "ea30a11c",
   "metadata": {},
   "source": [
    "La fonction np.random.randint() de NumPy permet de générer des nombres entiers aléatoires à partir d'une distribution uniforme discrète dans l'intervalle [low, high)."
   ]
  },
  {
   "cell_type": "code",
   "execution_count": null,
   "id": "ce3b301d",
   "metadata": {},
   "outputs": [],
   "source": []
  },
  {
   "cell_type": "code",
   "execution_count": null,
   "id": "d06e7c61",
   "metadata": {},
   "outputs": [],
   "source": [
    "print(\"Sans initialisation (sans seed):\")\n",
    "print(np.random.rand(3))\n",
    "print(np.random.rand(3)) "
   ]
  },
  {
   "cell_type": "code",
   "execution_count": null,
   "id": "4ef529df",
   "metadata": {},
   "outputs": [],
   "source": [
    "print(\"\\n--- Avec initialisation (seed 42) ---\")\n",
    "np.random.seed(42)\n",
    "print(np.random.rand(3))\n"
   ]
  },
  {
   "cell_type": "code",
   "execution_count": null,
   "id": "ce72bd1f",
   "metadata": {},
   "outputs": [],
   "source": [
    "print(\"\\n--- Avec initialisation (seed 42) ---\")\n",
    "np.random.seed(42)\n",
    "print(np.random.rand(3))"
   ]
  },
  {
   "cell_type": "markdown",
   "id": "ffb305cd",
   "metadata": {},
   "source": [
    "Constat : Sans graine, chaque appel donne des nombres différents. Avec la graine 42, les appels suivants donnent la même séquence.\n",
    "\n",
    "Explication : La graine fixe le point de départ de la génération aléatoire, assurant la reproductibilité. Sans graine, le point de départ change à chaque exécution."
   ]
  },
  {
   "cell_type": "markdown",
   "id": "8b2c365f",
   "metadata": {},
   "source": []
  },
  {
   "cell_type": "markdown",
   "id": "ad2c37b4",
   "metadata": {},
   "source": [
    ".min() : Cette fonction renvoie la valeur minimale présente dans le tableau NumPy.\n",
    "\n",
    ".max() : Inversement, cette fonction renvoie la valeur maximale présente dans le tableau NumPy.\n",
    "\n",
    ".argmax() : Cette fonction renvoie l'indice de la première occurrence de la valeur maximale dans le tableau NumPy. En d'autres termes, elle vous dit à quelle position se trouve la plus grande valeur.\n",
    "Exemple pour illustrer leur utilisation :"
   ]
  },
  {
   "cell_type": "code",
   "execution_count": null,
   "id": "b18fac12",
   "metadata": {},
   "outputs": [],
   "source": [
    "mon_tableau = np.array([10, 5, 20, 8, 20])\n",
    "minimum = mon_tableau.min()\n",
    "maximum = mon_tableau.max()\n",
    "indice_maximum = mon_tableau.argmax()\n",
    "indice_minimum = mon_tableau.argmin()\n",
    "print(\"Tableau : {}\".format(mon_tableau))\n",
    "print(\"Minimum : {}\".format(minimum))\n",
    "print(\"Maximum : {}\".format(maximum))\n",
    "print(\"Indice du maximum : {}\".format(indice_maximum))\n",
    "print(\"Indice du minimum : {}\".format(indice_minimum))"
   ]
  },
  {
   "cell_type": "code",
   "execution_count": null,
   "id": "e0b4aa24",
   "metadata": {},
   "outputs": [],
   "source": []
  },
  {
   "cell_type": "markdown",
   "id": "9fc8d6aa",
   "metadata": {},
   "source": [
    "Dans la chaîne de caractères sur laquelle vous appelez .format(), vous utilisez des accolades {} pour indiquer où vous souhaitez insérer des valeurs."
   ]
  },
  {
   "cell_type": "code",
   "execution_count": null,
   "id": "104026e6",
   "metadata": {},
   "outputs": [],
   "source": [
    "nom = \"Alice\"\n",
    "age = 30\n",
    "message = \"Je m'appelle {} et j'ai {} ans.\".format(nom, age)\n",
    "print(message) "
   ]
  },
  {
   "cell_type": "code",
   "execution_count": null,
   "id": "1a4692e9",
   "metadata": {},
   "outputs": [],
   "source": [
    "message = \"Le premier est {0}, le deuxième est {1}, mais le premier est encore {0}.\".format(\"un\", \"deux\")\n",
    "print(message)  "
   ]
  },
  {
   "cell_type": "code",
   "execution_count": null,
   "id": "09c07919",
   "metadata": {},
   "outputs": [],
   "source": [
    "message = \"Je suis {nom} et je vis à {ville}.\".format(nom=\"Charlie\", ville=\"Yaoundé\")\n",
    "print(message) "
   ]
  },
  {
   "cell_type": "code",
   "execution_count": null,
   "id": "bc3d98eb",
   "metadata": {},
   "outputs": [],
   "source": []
  },
  {
   "cell_type": "markdown",
   "id": "7824f901",
   "metadata": {},
   "source": [
    "index et selection"
   ]
  },
  {
   "cell_type": "code",
   "execution_count": null,
   "id": "ec100515",
   "metadata": {},
   "outputs": [],
   "source": [
    "tab=np.arange(10)\n",
    "tab"
   ]
  },
  {
   "cell_type": "code",
   "execution_count": null,
   "id": "d5e9a6b1",
   "metadata": {},
   "outputs": [],
   "source": [
    "tab[5:]"
   ]
  },
  {
   "cell_type": "code",
   "execution_count": null,
   "id": "e7c52216",
   "metadata": {},
   "outputs": [],
   "source": [
    "slice_of_tab=tab[5:]"
   ]
  },
  {
   "cell_type": "code",
   "execution_count": null,
   "id": "edab9ed0",
   "metadata": {},
   "outputs": [],
   "source": [
    "slice_of_tab"
   ]
  },
  {
   "cell_type": "code",
   "execution_count": null,
   "id": "9fb3809b",
   "metadata": {},
   "outputs": [],
   "source": [
    "slice_of_tab[:]=55"
   ]
  },
  {
   "cell_type": "code",
   "execution_count": null,
   "id": "16fc8aa3",
   "metadata": {},
   "outputs": [],
   "source": [
    "slice_of_tab"
   ]
  },
  {
   "cell_type": "markdown",
   "id": "cd9c3a6c",
   "metadata": {},
   "source": [
    "pour retourner la forme du tableau on utilise la methode .shape"
   ]
  },
  {
   "cell_type": "code",
   "execution_count": null,
   "id": "0042f1f7",
   "metadata": {},
   "outputs": [],
   "source": [
    "tab=np.random.randint(5,45,(3,3))\n",
    "tab"
   ]
  },
  {
   "cell_type": "code",
   "execution_count": null,
   "id": "66f70063",
   "metadata": {},
   "outputs": [],
   "source": [
    "tab.shape"
   ]
  },
  {
   "cell_type": "code",
   "execution_count": null,
   "id": "64a31203",
   "metadata": {},
   "outputs": [],
   "source": [
    "tab[2]"
   ]
  },
  {
   "cell_type": "code",
   "execution_count": null,
   "id": "9dbd7c42",
   "metadata": {},
   "outputs": [],
   "source": [
    "tab[2][1]"
   ]
  },
  {
   "cell_type": "code",
   "execution_count": null,
   "id": "7acaa450",
   "metadata": {},
   "outputs": [],
   "source": [
    "tab[2,1]"
   ]
  },
  {
   "cell_type": "code",
   "execution_count": null,
   "id": "a1e619c1",
   "metadata": {},
   "outputs": [],
   "source": [
    "tab[:2]"
   ]
  },
  {
   "cell_type": "code",
   "execution_count": null,
   "id": "f6f5afe2",
   "metadata": {},
   "outputs": [],
   "source": [
    "tab[1:]"
   ]
  },
  {
   "cell_type": "code",
   "execution_count": null,
   "id": "44fb8fca",
   "metadata": {},
   "outputs": [],
   "source": [
    "tab[:2,1:]"
   ]
  },
  {
   "cell_type": "code",
   "execution_count": null,
   "id": "91070066",
   "metadata": {},
   "outputs": [],
   "source": [
    "tab=np.arange(10)\n",
    "tab"
   ]
  },
  {
   "cell_type": "code",
   "execution_count": null,
   "id": "a2131183",
   "metadata": {},
   "outputs": [],
   "source": [
    "tab>5"
   ]
  },
  {
   "cell_type": "markdown",
   "id": "ed0f0cee",
   "metadata": {},
   "source": [
    "operation numpy"
   ]
  },
  {
   "cell_type": "markdown",
   "id": "69a6a0ff",
   "metadata": {},
   "source": [
    "qelques methodes \n",
    ".sin\n",
    ".log\n",
    ".sum\n",
    ".mean\n",
    ".max"
   ]
  },
  {
   "cell_type": "code",
   "execution_count": null,
   "id": "4b45285c",
   "metadata": {},
   "outputs": [],
   "source": [
    "tab=np.random.randint(0,25,(5,5))\n",
    "tab"
   ]
  },
  {
   "cell_type": "code",
   "execution_count": null,
   "id": "7096ed8a",
   "metadata": {},
   "outputs": [],
   "source": [
    "print(tab.sum(axis=0))\n",
    "#fait la somme de maniere verticale\n",
    "print(tab.sum(axis=1))\n",
    "#fait la somme de maniere horizontale"
   ]
  },
  {
   "cell_type": "code",
   "execution_count": null,
   "id": "85ba7063",
   "metadata": {},
   "outputs": [],
   "source": []
  },
  {
   "cell_type": "markdown",
   "id": "50aac849",
   "metadata": {},
   "source": [
    "bibliotheque pandas\n"
   ]
  },
  {
   "cell_type": "code",
   "execution_count": null,
   "id": "68819f93",
   "metadata": {},
   "outputs": [],
   "source": [
    "import pandas as pd"
   ]
  },
  {
   "cell_type": "markdown",
   "id": "fd7dd459",
   "metadata": {},
   "source": [
    "une Series Pandas ! C'est une structure de données fondamentale dans la librairie Pandas en Python. Imagine-la comme un tableau unidimensionnel étiqueté.\n",
    "\n",
    "Voici les points clés pour comprendre ce qu'est une Series :\n",
    "\n",
    "Unidimensionnelle : Contrairement à un DataFrame qui a des lignes et des colonnes, une Series n'a qu'une seule dimension, un peu comme une colonne dans un tableur.\n",
    "Étiquetée : C'est là que ça devient intéressant ! Chaque élément dans une Series a une étiquette associée, appelée index. Par défaut, Pandas crée un index entier (0, 1, 2, ...) comme dans une liste Python. Cependant, vous pouvez définir des étiquettes personnalisées (noms, dates, etc.) pour chaque valeur. Cet index rend la recherche et l'alignement des données beaucoup plus intuitifs que dans une simple liste.\n",
    "Type de données homogène : Bien qu'une Series puisse contenir différents types de données (entiers, flottants, chaînes de caractères, etc.), il est généralement préférable et plus efficace qu'elle contienne des données du même type. Pandas essaiera de trouver un type de données commun pour tous les éléments.\n",
    "Basée sur NumPy : En interne, une Series est construite sur un tableau NumPy, ce qui lui confère des performances élevées pour les opérations numériques et vectorielles.\n",
    "En résumé, une Series Pandas est comme une colonne de données avec des étiquettes pour chaque ligne, ce qui la rend puissante pour manipuler et analyser des données unidimensionnelles.\n",
    "\n",
    "Par exemple, vous pourriez avoir une Series représentant les âges d'un groupe de personnes, où l'index pourrait être leurs noms :"
   ]
  },
  {
   "cell_type": "code",
   "execution_count": null,
   "id": "f0a61701",
   "metadata": {},
   "outputs": [],
   "source": [
    "import pandas as pd\n",
    "\n",
    "ages = pd.Series([25, 30, 22, 28], index=['Alice', 'Bob', 'Charlie', 'David'])\n",
    "print(ages)"
   ]
  },
  {
   "cell_type": "markdown",
   "id": "0728d2d5",
   "metadata": {},
   "source": [
    "1. À partir d'une liste Python :\n",
    "\n",
    "C'est la méthode la plus simple. Pandas va créer une Series avec un index entier par défaut (0, 1, 2, ...)."
   ]
  },
  {
   "cell_type": "code",
   "execution_count": null,
   "id": "b1db3e40",
   "metadata": {},
   "outputs": [],
   "source": [
    "import pandas as pd\n",
    "\n",
    "data = [10, 20, 30, 40, 50]\n",
    "serie = pd.Series(data)\n",
    "print(serie)"
   ]
  },
  {
   "cell_type": "markdown",
   "id": "30bc4f95",
   "metadata": {},
   "source": [
    "2. À partir d'une liste Python avec un index personnalisé :\n",
    "\n",
    "Tu peux spécifier tes propres étiquettes pour l'index en utilisant l'argument index."
   ]
  },
  {
   "cell_type": "code",
   "execution_count": null,
   "id": "9e846c35",
   "metadata": {},
   "outputs": [],
   "source": [
    "import pandas as pd\n",
    "\n",
    "data = [10, 20, 30]\n",
    "index_names = ['A', 'B', 'C']\n",
    "serie = pd.Series(data, index=index_names)\n",
    "print(serie)"
   ]
  },
  {
   "cell_type": "markdown",
   "id": "ee7031de",
   "metadata": {},
   "source": [
    "4. À partir d'un scalaire (une seule valeur) avec un index :\n",
    "\n",
    "Si tu veux créer une Series où toutes les valeurs sont identiques, tu peux passer une seule valeur et spécifier la longueur de l'index."
   ]
  },
  {
   "cell_type": "code",
   "execution_count": null,
   "id": "5361347f",
   "metadata": {},
   "outputs": [],
   "source": [
    "import pandas as pd\n",
    "\n",
    "data = 7\n",
    "index_names = ['X', 'Y', 'Z']\n",
    "serie = pd.Series(data, index=index_names)\n",
    "print(serie)"
   ]
  },
  {
   "cell_type": "markdown",
   "id": "bed56291",
   "metadata": {},
   "source": [
    "pandas.Series(data=None, index=None, dtype=None, name=None, copy=False, fastpath=False)\n",
    "\n",
    "data : Les données à contenir dans la Series (liste, tuple, dictionnaire, tableau NumPy, scalaire). Par défaut : None.\n",
    "\n",
    "index : Les étiquettes de l'index. Doit avoir la même longueur que data si data est une séquence. Si None (par défaut) et que data est une séquence, un index entier de 0 à len(data) - 1 est utilisé. Si data est un dictionnaire, les clés du dictionnaire sont utilisées comme index.\n",
    "\n",
    "dtype : Le type de données de la Series. Si None (par défaut), Pandas essaiera de le déduire. Il est recommandé de spécifier le type explicitement pour éviter des comportements inattendus.\n",
    "\n",
    "name : Un nom à donner à la Series.\n",
    "\n",
    "copy : Indique si les données d'entrée doivent être copiées. Par défaut : False.\n",
    "\n",
    "fastpath : Optimisation interne. Rarement utilisé directement."
   ]
  },
  {
   "cell_type": "code",
   "execution_count": null,
   "id": "d2866f89",
   "metadata": {},
   "outputs": [],
   "source": [
    "import pandas as pd\n",
    "\n",
    "# Notre dictionnaire de données : pays comme clés, capitales comme valeurs\n",
    "capitales = {'France': 'Paris',\n",
    "             'Allemagne': 'Berlin',\n",
    "             'Italie': 'Rome',\n",
    "             'Japon': 'Tokyo'}\n",
    "\n",
    "# Création de la Series à partir du dictionnaire\n",
    "serie_capitales = pd.Series(capitales)\n",
    "\n",
    "# Affichage de la Series\n",
    "print(serie_capitales)"
   ]
  },
  {
   "cell_type": "code",
   "execution_count": null,
   "id": "92fcab99",
   "metadata": {},
   "outputs": [],
   "source": [
    "data = {'A': 1, 'B': 2, 'C': 3}\n",
    "index_perso = ['A', 'D', 'B', 'E']\n",
    "serie_manquante = pd.Series(data, index=index_perso)\n",
    "print(serie_manquante)"
   ]
  },
  {
   "cell_type": "code",
   "execution_count": null,
   "id": "2ce1dcbe",
   "metadata": {},
   "outputs": [],
   "source": [
    "index_perso[0]"
   ]
  },
  {
   "cell_type": "code",
   "execution_count": null,
   "id": "2c4aa4c2",
   "metadata": {},
   "outputs": [],
   "source": [
    "serie_manquante['A']"
   ]
  },
  {
   "cell_type": "markdown",
   "id": "0033cede",
   "metadata": {},
   "source": [
    "le DataFrame ! C'est une autre structure de données essentielle de la librairie Pandas, et c'est super puissant pour manipuler des données tabulaires. Pense à un DataFrame comme à une feuille de calcul Excel ou une table SQL, mais en beaucoup plus flexible et performante.\n",
    "\n",
    "Voici les points clés pour comprendre ce qu'est un DataFrame :\n",
    "\n",
    "Structure bidimensionnelle : Contrairement à une Series qui est unidimensionnelle, un DataFrame a deux dimensions : des lignes et des colonnes.\n",
    "Colonnes étiquetées : Chaque colonne dans un DataFrame a une étiquette, qui est un nom de colonne (une chaîne de caractères, généralement).\n",
    "\n",
    "Index pour les lignes : Tout comme une Series, un DataFrame a un index qui étiquette chaque ligne. Par défaut, c'est un index entier (0, 1, 2, ...), mais tu peux le personnaliser avec des noms, des dates, etc.\n",
    "\n",
    "Types de données hétérogènes : Une des grandes forces d'un DataFrame est que chaque colonne peut contenir des données d'un type différent (entiers, flottants, chaînes de caractères, booléens, etc.).\n",
    "\n",
    "Basé sur NumPy : En interne, les données d'un DataFrame sont stockées sous forme de tableaux NumPy, ce qui permet des opérations rapides et efficaces.\n",
    "\n",
    "Peut être vu comme un ensemble de Series : Conceptuellement, tu peux considérer un DataFrame comme un ensemble de Series partageant le même index. Chaque colonne du DataFrame est en fait une Series.\n",
    "En résumé, un DataFrame Pandas est une structure de données tabulaire avec des lignes et des colonnes étiquetées, capable de contenir des données de différents types, et optimisée pour l'analyse de données.\n",
    "\n",
    "Imagine que tu veuilles stocker des informations sur des personnes : leurs noms, leurs âges et leurs villes. Tu pourrais le faire avec un DataFrame comme ceci"
   ]
  },
  {
   "cell_type": "code",
   "execution_count": null,
   "id": "37b2910f",
   "metadata": {},
   "outputs": [],
   "source": [
    "import pandas as pd\n",
    "\n",
    "data = {'Nom': ['Alice', 'Bob', 'Charlie', 'David'],\n",
    "        'Âge': [25, 30, 22, 28],\n",
    "        'Ville': ['Paris', 'Berlin', 'Rome', 'Tokyo']}\n",
    "\n",
    "df = pd.DataFrame(data)\n",
    "print(df)"
   ]
  },
  {
   "cell_type": "markdown",
   "id": "5860a7e5",
   "metadata": {},
   "source": [
    " Il existe plusieurs façons de construire un DataFrame, en fonction du type de données que tu as à disposition. Voici les méthodes les plus courantes avec des exemples :\n",
    "\n",
    "1. À partir d'un dictionnaire de listes (ou de tableaux NumPy) :\n",
    "\n",
    "C'est une méthode très fréquente. Chaque clé du dictionnaire représente le nom d'une colonne, et la valeur associée est une liste (ou un tableau NumPy) contenant les données de cette colonne. Toutes les listes doivent avoir la même longueur."
   ]
  },
  {
   "cell_type": "code",
   "execution_count": null,
   "id": "613c4841",
   "metadata": {},
   "outputs": [],
   "source": [
    "import pandas as pd\n",
    "\n",
    "data = {'Nom': ['Alice', 'Bob', 'Charlie'],\n",
    "        'Âge': [25, 30, 22],\n",
    "        'Ville': ['Paris', 'Berlin', 'Rome']}\n",
    "\n",
    "df = pd.DataFrame(data)\n",
    "print(df)"
   ]
  },
  {
   "cell_type": "markdown",
   "id": "061b40dd",
   "metadata": {},
   "source": [
    "Tu peux aussi spécifier l'index des lignes lors de la création :"
   ]
  },
  {
   "cell_type": "code",
   "execution_count": null,
   "id": "6cc190fc",
   "metadata": {},
   "outputs": [],
   "source": [
    "data = {'Nom': ['Alice', 'Bob', 'Charlie'],\n",
    "        'Âge': [25, 30, 22],\n",
    "        'Ville': ['Paris', 'Berlin', 'Rome']}\n",
    "index_names = ['Personne 1', 'Personne 2', 'Personne 3']\n",
    "\n",
    "df = pd.DataFrame(data, index=index_names)\n",
    "print(df)"
   ]
  },
  {
   "cell_type": "markdown",
   "id": "50a9e8fd",
   "metadata": {},
   "source": [
    "2. À partir d'une liste de dictionnaires :\n",
    "\n",
    "Chaque dictionnaire dans la liste représente une ligne du DataFrame. Les clés des dictionnaires deviendront les noms des colonnes. Si les dictionnaires n'ont pas toutes les mêmes clés, Pandas remplira les valeurs manquantes avec NaN."
   ]
  },
  {
   "cell_type": "code",
   "execution_count": null,
   "id": "c8986292",
   "metadata": {},
   "outputs": [],
   "source": [
    "data = [{'Nom': 'Alice', 'Âge': 25, 'Ville': 'Paris'},\n",
    "        {'Nom': 'Bob', 'Âge': 30, 'Ville': 'Berlin'},\n",
    "        {'Nom': 'Charlie', 'Âge': 22}]  # 'Ville' manquant pour Charlie\n",
    "\n",
    "df = pd.DataFrame(data)\n",
    "print(df)"
   ]
  },
  {
   "cell_type": "markdown",
   "id": "2d81a853",
   "metadata": {},
   "source": [
    "Tu peux aussi spécifier l'ordre des colonnes avec l'argument columns :"
   ]
  },
  {
   "cell_type": "code",
   "execution_count": null,
   "id": "60172ff2",
   "metadata": {},
   "outputs": [],
   "source": [
    "data = [{'Nom': 'Alice', 'Âge': 25, 'Ville': 'Paris'},\n",
    "        {'Nom': 'Bob', 'Âge': 30, 'Ville': 'Berlin'},\n",
    "        {'Nom': 'Charlie', 'Âge': 22}]\n",
    "\n",
    "df = pd.DataFrame(data, columns=['Nom', 'Ville', 'Âge'])\n",
    "print(df)"
   ]
  },
  {
   "cell_type": "markdown",
   "id": "f8add9e7",
   "metadata": {},
   "source": [
    "3. À partir d'un tableau NumPy 2D :\n",
    "\n",
    "Tu peux créer un DataFrame directement à partir d'un tableau NumPy. Tu devras alors spécifier les noms des colonnes et éventuellement l'index des lignes."
   ]
  },
  {
   "cell_type": "code",
   "execution_count": null,
   "id": "3061a654",
   "metadata": {},
   "outputs": [],
   "source": [
    "import pandas as pd\n",
    "import numpy as np\n",
    "\n",
    "data = np.array([[1, 'A', 10.5],\n",
    "                 [2, 'B', 20.3],\n",
    "                 [3, 'C', 15.0]])\n",
    "\n",
    "df = pd.DataFrame(data, columns=['ID', 'Lettre', 'Valeur'])\n",
    "print(df)"
   ]
  },
  {
   "cell_type": "markdown",
   "id": "c9e8ce86",
   "metadata": {},
   "source": [
    "Tu peux aussi ajouter un index :"
   ]
  },
  {
   "cell_type": "code",
   "execution_count": null,
   "id": "0383c5a5",
   "metadata": {},
   "outputs": [],
   "source": [
    "import pandas as pd\n",
    "import numpy as np\n",
    "\n",
    "data = np.array([[1, 'A', 10.5],\n",
    "                 [2, 'B', 20.3],\n",
    "                 [3, 'C', 15.0]])\n",
    "index_names = ['Ligne 1', 'Ligne 2', 'Ligne 3']\n",
    "column_names = ['ID', 'Lettre', 'Valeur']\n",
    "\n",
    "df = pd.DataFrame(data, index=index_names, columns=column_names)\n",
    "print(df)"
   ]
  },
  {
   "cell_type": "markdown",
   "id": "25bff4f2",
   "metadata": {},
   "source": [
    "La syntaxe de base pour créer un DataFrame est :\n",
    "\n",
    "Python\n",
    "\n",
    "pandas.DataFrame(data=None, index=None, columns=None, dtype=None, copy=False)\n",
    "Où :\n",
    "\n",
    "data : Les données pour le DataFrame (dictionnaire, liste de dictionnaires, tableau NumPy, une autre DataFrame, etc.).\n",
    "\n",
    "index : Les étiquettes de l'index des lignes. Si None (par défaut), un index entier de 0 à n-1 est utilisé.\n",
    "\n",
    "columns : Les étiquettes des colonnes. Si None (par défaut), elles seront déduites des données (par exemple, les clés d'un dictionnaire).\n",
    "\n",
    "dtype : Le type de données par défaut pour le DataFrame. Si None (par défaut), Pandas essaiera de le déduire.\n",
    "\n",
    "copy : Indique si les données d'entrée doivent être copiées. Par défaut : False."
   ]
  },
  {
   "cell_type": "markdown",
   "id": "650d411a",
   "metadata": {},
   "source": [
    " Il existe de nombreuses façons d'accéder aux données dans un DataFrame Pandas, et le choix de la méthode dépend souvent de ce que tu veux sélectionner (une colonne, une ligne, une cellule, un groupe de lignes/colonnes) et de la façon dont tu veux le spécifier (par étiquette ou par position).\n",
    "\n",
    "Voici les méthodes principales pour accéder aux données d'un DataFrame :\n",
    "\n",
    "1. Sélection par étiquette (label) :\n",
    "\n",
    "Sélection d'une colonne : Tu peux accéder à une colonne en utilisant son nom (l'étiquette de la colonne) comme une clé dans un dictionnaire ou comme un attribut de l'objet DataFrame."
   ]
  },
  {
   "cell_type": "code",
   "execution_count": null,
   "id": "20b93552",
   "metadata": {},
   "outputs": [],
   "source": [
    "import pandas as pd\n",
    "\n",
    "data = {'Nom': ['Alice', 'Bob', 'Charlie'],\n",
    "        'Âge': [25, 30, 22],\n",
    "        'Ville': ['Paris', 'Berlin', 'Rome']}\n",
    "df = pd.DataFrame(data)\n",
    "\n",
    "# Méthode 1 : Utilisation des crochets (comme un dictionnaire)\n",
    "noms = df['Nom']\n",
    "print(noms)\n",
    "\n",
    "# Méthode 2 : Utilisation de l'attribut (si le nom de la colonne est valide comme attribut Python)\n",
    "ages = df.Âge\n",
    "print(ages)"
   ]
  },
  {
   "cell_type": "markdown",
   "id": "468362af",
   "metadata": {},
   "source": [
    "Sélection de lignes et de colonnes avec .loc[] : L'attribut .loc[] est utilisé pour accéder à des groupes de lignes et de colonnes en utilisant les étiquettes. La syntaxe générale est df.loc[row_labels, column_labels]."
   ]
  },
  {
   "cell_type": "code",
   "execution_count": null,
   "id": "25d31cce",
   "metadata": {},
   "outputs": [],
   "source": [
    "import pandas as pd\n",
    "\n",
    "data = {'Nom': ['Alice', 'Bob', 'Charlie'],\n",
    "        'Âge': [25, 30, 22],\n",
    "        'Ville': ['Paris', 'Berlin', 'Rome']}\n",
    "index_names = ['Personne 1', 'Personne 2', 'Personne 3']\n",
    "df = pd.DataFrame(data, index=index_names)\n",
    "\n",
    "# Sélection d'une ligne par son étiquette\n",
    "ligne_personne1 = df.loc['Personne 1']\n",
    "print(ligne_personne1)\n",
    "\n",
    "# Sélection de plusieurs lignes et colonnes spécifiques\n",
    "subset = df.loc[['Personne 1', 'Personne 3'], ['Nom', 'Ville']]\n",
    "print(subset)\n",
    "\n",
    "# Sélection de toutes les lignes pour certaines colonnes\n",
    "villes = df.loc[:, 'Ville']\n",
    "print(villes)\n",
    "\n",
    "# Sélection de certaines lignes pour toutes les colonnes\n",
    "personnes_1_et_2 = df.loc[['Personne 1', 'Personne 2'], :]\n",
    "print(personnes_1_et_2)"
   ]
  },
  {
   "cell_type": "markdown",
   "id": "a3a06db4",
   "metadata": {},
   "source": [
    "3. Sélection booléenne (filtrage) :\n",
    "\n",
    "Tu peux utiliser des conditions pour sélectionner des lignes en fonction des valeurs de leurs colonnes."
   ]
  },
  {
   "cell_type": "code",
   "execution_count": null,
   "id": "d785c366",
   "metadata": {},
   "outputs": [],
   "source": [
    "import pandas as pd\n",
    "\n",
    "data = {'Nom': ['Alice', 'Bob', 'Charlie', 'David'],\n",
    "        'Âge': [25, 30, 22, 30],\n",
    "        'Ville': ['Paris', 'Berlin', 'Rome', 'Londres']}\n",
    "df = pd.DataFrame(data)\n",
    "\n",
    "# Sélection des personnes ayant plus de 25 ans\n",
    "plus_de_25 = df[df['Âge'] > 25]\n",
    "print(plus_de_25)\n",
    "\n",
    "# Sélection des personnes vivant à Paris\n",
    "paris = df[df['Ville'] == 'Paris']\n",
    "print(paris)\n",
    "\n",
    "# Combinaison de plusieurs conditions avec & (et) ou | (ou)\n",
    "plus_de_25_et_pas_paris = df[(df['Âge'] > 25) & (df['Ville'] != 'Paris')]\n",
    "print(plus_de_25_et_pas_paris)"
   ]
  },
  {
   "cell_type": "markdown",
   "id": "f543c5a9",
   "metadata": {},
   "source": [
    "df['NomColonne'] ou df.NomColonne : Pour sélectionner une colonne par son nom.\n",
    "df.loc[étiquette_ligne] : Pour sélectionner une ou plusieurs lignes par leurs étiquettes.\n",
    "df.loc[:, 'NomColonne'] : Pour sélectionner toutes les lignes pour une ou plusieurs colonnes par leurs noms.\n",
    "df.loc[['étiquette1', 'étiquette2'], ['col1', 'col2']] : Pour sélectionner des sous-ensembles spécifiques par étiquettes.\n",
    "df.iloc[index_ligne] : Pour sélectionner une ou plusieurs lignes par leur position entière.\n",
    "df.iloc[:, index_colonne] : Pour sélectionner toutes les lignes pour une ou plusieurs colonnes par leurs positions entières.\n",
    "df.iloc[[0, 2], [1, 2]] : Pour sélectionner des sous-ensembles spécifiques par positions entières.\n",
    "df[condition] : Pour filtrer les lignes en fonction d'une condition booléenne sur les valeurs des colonnes."
   ]
  },
  {
   "cell_type": "code",
   "execution_count": null,
   "id": "8c0eba76",
   "metadata": {},
   "outputs": [],
   "source": []
  },
  {
   "cell_type": "markdown",
   "id": "2cf5cbe6",
   "metadata": {},
   "source": [
    "1. Insérer une nouvelle colonne :\n",
    "\n",
    "Il existe plusieurs façons d'ajouter une nouvelle colonne à un DataFrame :\n",
    "\n",
    "Assignation directe (la méthode la plus courante) : Si tu as une Series ou une liste (ou un tableau NumPy) de la même longueur que le DataFrame, tu peux simplement assigner cette Series/liste à un nouveau nom de colonne."
   ]
  },
  {
   "cell_type": "code",
   "execution_count": null,
   "id": "1dd1e3df",
   "metadata": {},
   "outputs": [],
   "source": [
    "import pandas as pd\n",
    "\n",
    "data = {'Nom': ['Alice', 'Bob', 'Charlie'],\n",
    "        'Âge': [25, 30, 22]}\n",
    "df = pd.DataFrame(data)\n",
    "df"
   ]
  },
  {
   "cell_type": "markdown",
   "id": "db68df1e",
   "metadata": {},
   "source": [
    "Ajouter une nouvelle colonne 'Ville' avec une liste"
   ]
  },
  {
   "cell_type": "code",
   "execution_count": null,
   "id": "c8b81db1",
   "metadata": {},
   "outputs": [],
   "source": [
    "df['Ville'] = ['Paris', 'Berlin', 'Rome']\n",
    "print(df)"
   ]
  },
  {
   "cell_type": "markdown",
   "id": "ec17ae19",
   "metadata": {},
   "source": [
    "Ajouter une nouvelle colonne 'Taille' avec une Series"
   ]
  },
  {
   "cell_type": "code",
   "execution_count": null,
   "id": "343f27d1",
   "metadata": {},
   "outputs": [],
   "source": [
    "tailles = pd.Series([165, 180, 172], index=[0, 1, 2])\n",
    "df['Taille'] = tailles\n",
    "print(df)"
   ]
  },
  {
   "cell_type": "code",
   "execution_count": null,
   "id": "a5a11524",
   "metadata": {},
   "outputs": [],
   "source": []
  },
  {
   "cell_type": "markdown",
   "id": "31057cfd",
   "metadata": {},
   "source": [
    "Pour lire un fichier CSV en tant que DataFrame Pandas avec Anaconda, tu vas principalement utiliser la librairie Pandas qui est généralement incluse dans la distribution Anaconda. Voici la méthode principale et la plus courante :\n",
    "\n",
    "Utilisation de pd.read_csv() :\n",
    "\n",
    "La fonction read_csv() de Pandas est la clé pour lire des fichiers CSV et les transformer en DataFrames."
   ]
  },
  {
   "cell_type": "code",
   "execution_count": null,
   "id": "bca2c4fc",
   "metadata": {},
   "outputs": [],
   "source": [
    "df = pd.read_csv('medical_cost.csv')\n",
    "df"
   ]
  },
  {
   "cell_type": "code",
   "execution_count": null,
   "id": "9687931a",
   "metadata": {},
   "outputs": [],
   "source": [
    "pwd\n",
    "#pour connaitre le chemin d'acces de mon fichier.csv"
   ]
  },
  {
   "cell_type": "code",
   "execution_count": null,
   "id": "da5fc105",
   "metadata": {},
   "outputs": [],
   "source": [
    "ls\n",
    "#pour connaitre les fichiers et dossier se trouvant dans le repertoire de ton fichier jupiter"
   ]
  },
  {
   "cell_type": "code",
   "execution_count": null,
   "id": "43bc6685",
   "metadata": {},
   "outputs": [],
   "source": [
    "df = pd.read_csv('medical_cost.csv')\n",
    "df"
   ]
  },
  {
   "cell_type": "markdown",
   "id": "db2ac973",
   "metadata": {},
   "source": [
    "quelques methodes et attributs de base que nous pouvions appliquer sur un dataframe pour avoir des informations\n"
   ]
  },
  {
   "cell_type": "code",
   "execution_count": null,
   "id": "3c4d0781",
   "metadata": {},
   "outputs": [],
   "source": [
    "#permet que connaitre quels sont nos colonnes \n",
    "df.columns"
   ]
  },
  {
   "cell_type": "code",
   "execution_count": null,
   "id": "2e545bdc",
   "metadata": {},
   "outputs": [],
   "source": [
    "df.index \n",
    "#pour afficher l' index du dataframe"
   ]
  },
  {
   "cell_type": "code",
   "execution_count": null,
   "id": "d6eca305",
   "metadata": {},
   "outputs": [],
   "source": [
    "df.head()\n",
    "#permet d'afficher quelques premiere ligne du dataframe (par defaut les 5 premieres lignes)\n",
    "#on peut mettre un argument pour fixer precisement le nombre de ligne a afficher"
   ]
  },
  {
   "cell_type": "code",
   "execution_count": null,
   "id": "0a8e0a55",
   "metadata": {},
   "outputs": [],
   "source": [
    "df.tail()\n",
    "#permet d'afficher les dernieres lignes du dataframe"
   ]
  },
  {
   "cell_type": "code",
   "execution_count": null,
   "id": "e98dbc83",
   "metadata": {},
   "outputs": [],
   "source": [
    "df.info()\n",
    "#donne les informations sur le dataframe"
   ]
  },
  {
   "cell_type": "code",
   "execution_count": null,
   "id": "564f90a3",
   "metadata": {},
   "outputs": [],
   "source": [
    "df.describe()\n",
    "#decrit le dataframe"
   ]
  },
  {
   "cell_type": "code",
   "execution_count": null,
   "id": "b39ec4ec",
   "metadata": {},
   "outputs": [],
   "source": [
    "df.describe().transpose()\n",
    "#fait la transposé de la description (les colonnes deviennent l'index et l'index devient la colonne)"
   ]
  },
  {
   "cell_type": "code",
   "execution_count": null,
   "id": "968c00cf",
   "metadata": {},
   "outputs": [],
   "source": [
    "df=pd.read_csv('medical_cost.csv')\n",
    "df=df.head()"
   ]
  },
  {
   "cell_type": "code",
   "execution_count": null,
   "id": "84da265c",
   "metadata": {},
   "outputs": [],
   "source": [
    "df"
   ]
  },
  {
   "cell_type": "markdown",
   "id": "94a7e185",
   "metadata": {},
   "source": [
    ".drop\n",
    "supprimer ue ligne\n"
   ]
  },
  {
   "cell_type": "code",
   "execution_count": null,
   "id": "ad565987",
   "metadata": {},
   "outputs": [],
   "source": [
    "import pandas as pd\n",
    "import numpy as np"
   ]
  },
  {
   "cell_type": "code",
   "execution_count": null,
   "id": "a3e020b1",
   "metadata": {},
   "outputs": [],
   "source": [
    "import pandas as pd\n",
    "df=pd.read_csv('medical_cost.csv')\n",
    "df=df['bmi'].round(2)\n",
    "df"
   ]
  },
  {
   "cell_type": "code",
   "execution_count": null,
   "id": "69dc05f5-510f-4efc-9b4d-bb20107f8424",
   "metadata": {},
   "outputs": [],
   "source": [
    "import pandas as pd\n",
    "df=pd.read_csv('medical_cost.csv')\n",
    "df['bmi']=df['bmi'].round(1)\n",
    "df\n",
    "#.round permet de faire l'arrondi"
   ]
  },
  {
   "cell_type": "code",
   "execution_count": null,
   "id": "a6a35c27-e295-4191-86f3-aedfdffe69c8",
   "metadata": {},
   "outputs": [],
   "source": [
    "df.index\n",
    "#donne les info sur l'inde"
   ]
  },
  {
   "cell_type": "code",
   "execution_count": null,
   "id": "17d14823-a30f-4d47-b15d-244003ba08bb",
   "metadata": {},
   "outputs": [],
   "source": [
    "df=df.set_index('id')\n",
    "df\n",
    "#Utiliser une colonne spécifique comme nouvel index ?"
   ]
  },
  {
   "cell_type": "markdown",
   "id": "f1f517a1-1fa9-4cd9-8ee1-5ab82dada6ff",
   "metadata": {},
   "source": [
    "1. .iloc[] : La Sélection par Position Entière\n",
    "\n",
    "Rôle : .iloc[] est utilisé pour effectuer une sélection basée sur la position entière (index entier) des lignes et des colonnes dans votre DataFrame. C'est comme accéder à des éléments dans une liste ou un tableau NumPy en utilisant leurs indices numériques.\n",
    "\n",
    "Comment on l'utilise : La syntaxe générale est df.iloc[row_indexer, column_indexer].\n",
    "\n",
    "row_indexer : Peut être un entier unique, une liste d'entiers, une tranche (avec les bornes non incluses pour la borne supérieure), ou un booléen array (de la même longueur que l'axe).\n",
    "column_indexer : Fonctionne de la même manière que row_indexer mais pour les colonnes.\n",
    "Exemples :"
   ]
  },
  {
   "cell_type": "code",
   "execution_count": null,
   "id": "f1cf33ec-58f3-4b03-a8c3-5213c7c7f9dc",
   "metadata": {},
   "outputs": [],
   "source": [
    "import pandas as pd\n",
    "\n",
    "data = {'Nom': ['Alice', 'Bob', 'Charlie'],\n",
    "        'Âge': [25, 30, 22],\n",
    "        'Ville': ['Paris', 'Lyon', 'Marseille']}\n",
    "df = pd.DataFrame(data)\n",
    "print(df)"
   ]
  },
  {
   "cell_type": "code",
   "execution_count": null,
   "id": "193bb2a4-399c-4d83-97dc-b751f6ec232c",
   "metadata": {},
   "outputs": [],
   "source": [
    "premiere_ligne = df.iloc[0]\n",
    "print(premiere_ligne)\n",
    "#Sélectionner la première ligne :"
   ]
  },
  {
   "cell_type": "code",
   "execution_count": null,
   "id": "7a1dd17b-d029-4c88-8675-9f4edf84e31c",
   "metadata": {},
   "outputs": [],
   "source": [
    "#Sélectionner la deuxième ligne et la première colonne :\n",
    "element_specifique = df.iloc[1, 0]\n",
    "print(element_specifique)  "
   ]
  },
  {
   "cell_type": "code",
   "execution_count": null,
   "id": "383b0165-544e-4838-a77c-b7d677b93434",
   "metadata": {},
   "outputs": [],
   "source": [
    "#Sélectionner les deux premières lignes et les deux premières colonnes :\n",
    "sous_ensemble = df.iloc[0:2, 0:2]\n",
    "print(sous_ensemble)"
   ]
  },
  {
   "cell_type": "code",
   "execution_count": null,
   "id": "5b196f50-78da-414d-84d8-f493c89070c3",
   "metadata": {},
   "outputs": [],
   "source": [
    "#Sélectionner toutes les lignes et la dernière colonne :\n",
    "derniere_colonne = df.iloc[:, -1]\n",
    "print(derniere_colonne)"
   ]
  },
  {
   "cell_type": "code",
   "execution_count": null,
   "id": "8a8bac4c-547b-4923-b6c6-135148be5b53",
   "metadata": {},
   "outputs": [],
   "source": [
    "#.drop() son rôle de suppression d'étiquettes.\n",
    "import pandas as pd\n",
    "\n",
    "data = {'Nom': ['Alice', 'Bob', 'Charlie', 'David', 'Eve'],\n",
    "        'Âge': [25, 30, 22, 35, 28],\n",
    "        'Ville': ['Paris', 'Lyon', 'Marseille', 'Toulouse', 'Nantes'],\n",
    "        'Salaire': [50000, 60000, 45000, 70000, 55000]}\n",
    "df = pd.DataFrame(data)\n",
    "print(df)\n"
   ]
  },
  {
   "cell_type": "markdown",
   "id": "ea646a23-29e3-4891-ae17-6f0f5272180a",
   "metadata": {},
   "source": [
    "Cas 1 : Suppression de lignes par étiquette d'index (par défaut axis=0)\n",
    "\n",
    "Supprimer la ligne avec l'index 2 :"
   ]
  },
  {
   "cell_type": "code",
   "execution_count": null,
   "id": "676942b2-8b57-4299-9c7b-a879dcab6c91",
   "metadata": {},
   "outputs": [],
   "source": [
    "df_sans_charlie = df.drop(labels=2)\n",
    "print(df_sans_charlie)"
   ]
  },
  {
   "cell_type": "code",
   "execution_count": null,
   "id": "56412f73-9cb3-4b2f-9c44-56ae920dbdc1",
   "metadata": {},
   "outputs": [],
   "source": [
    "#Supprimer plusieurs lignes par leurs index :\n",
    "df_sans_alice_david = df.drop(labels=[0, 3])\n",
    "print(df_sans_alice_david)"
   ]
  },
  {
   "cell_type": "code",
   "execution_count": null,
   "id": "03771b84-4e44-43ac-a340-3998f48698d4",
   "metadata": {},
   "outputs": [],
   "source": [
    "#Utilisation de l'argument index (plus explicite pour les lignes) :\n",
    "df_sans_bob = df.drop(index=1)\n",
    "print(df_sans_bob)"
   ]
  },
  {
   "cell_type": "markdown",
   "id": "7aad95e1-3571-477c-a17b-b6c914d7e807",
   "metadata": {},
   "source": [
    "Cas 2 : Suppression de colonnes par nom (axis=1 ou 'columns')\n",
    "\n",
    "Supprimer la colonne 'Salaire' :"
   ]
  },
  {
   "cell_type": "code",
   "execution_count": null,
   "id": "cd4738e4-d972-4f14-ba5d-f778c70fdfcf",
   "metadata": {},
   "outputs": [],
   "source": [
    "df_sans_salaire = df.drop(labels='Salaire', axis=1)\n",
    "print(df_sans_salaire)"
   ]
  },
  {
   "cell_type": "code",
   "execution_count": null,
   "id": "28e15b35-7b7e-4fdf-8edc-d532c19cec66",
   "metadata": {},
   "outputs": [],
   "source": [
    "#Supprimer plusieurs colonnes :\n",
    "df_sans_age_ville = df.drop(labels=['Âge', 'Ville'], axis=1)\n",
    "print(df_sans_age_ville)"
   ]
  },
  {
   "cell_type": "code",
   "execution_count": null,
   "id": "19cef114-9cb9-46a8-bd42-e68f07560805",
   "metadata": {},
   "outputs": [],
   "source": [
    "#Utilisation de l'argument columns (plus explicite pour les colonnes) :\n",
    "df_sans_nom = df.drop(columns='Nom')\n",
    "print(df_sans_nom)"
   ]
  },
  {
   "cell_type": "markdown",
   "id": "1af4ef4e-5f7e-456f-912f-62f57c07014a",
   "metadata": {},
   "source": [
    "Cas 3 : Gestion des erreurs avec errors='ignore'\n",
    "\n",
    "Si vous essayez de supprimer une étiquette qui n'existe pas, pandas lèvera une KeyError par défaut. Pour éviter cela, vous pouvez utiliser errors='ignore'."
   ]
  },
  {
   "cell_type": "code",
   "execution_count": null,
   "id": "c0286edf-256e-4663-9ac8-1d99b3b7adab",
   "metadata": {},
   "outputs": [],
   "source": [
    "df_essayer_supprimer_inconnue = df.drop(labels=['Ville', 'Profession'], axis=1, errors='ignore')\n",
    "print(df_essayer_supprimer_inconnue)\n",
    "#Dans cet exemple, 'Ville' sera supprimée, mais 'Profession' (qui n'existe pas) sera ignorée sans lever d'erreur.\n",
    "\n"
   ]
  },
  {
   "cell_type": "markdown",
   "id": "d56cdbdf-ccff-4294-a105-d32582ee5636",
   "metadata": {},
   "source": [
    ".iloc[] : Sélection précise par position.\n",
    ".drop() : Suppression flexible par étiquette."
   ]
  },
  {
   "cell_type": "markdown",
   "id": "fddcd557-83ed-446a-bfb5-745baab297ac",
   "metadata": {},
   "source": [
    "3. .set_index() : La Définition de l'Index\n",
    "\n",
    "Rôle : .set_index() est utilisé pour transformer une ou plusieurs colonnes existantes de votre DataFrame en son index. L'index fournit une manière d'étiqueter et d'accéder aux données, ce qui peut rendre certaines opérations (comme la recherche et l'alignement) plus efficaces et intuitives.\n",
    "\n",
    "Comment on l'utilise : Vous spécifiez la ou les colonnes à utiliser comme nouvel index via l'argument keys.\n",
    "\n",
    "Exemples (en continuant avec le DataFrame précédent) :\n",
    "\n",
    "Définir la colonne 'Nom' comme index :"
   ]
  },
  {
   "cell_type": "code",
   "execution_count": null,
   "id": "acce9df1-9eea-4ecb-9f84-8b66d38ef797",
   "metadata": {},
   "outputs": [],
   "source": [
    "df_indexed_nom = df.set_index('Nom')\n",
    "print(df_indexed_nom)"
   ]
  },
  {
   "cell_type": "code",
   "execution_count": null,
   "id": "d4e0cbbc-91a6-4881-9ef8-f7a09b56cf9d",
   "metadata": {},
   "outputs": [],
   "source": [
    "#Créer un index multi-niveaux à partir de plusieurs colonnes :\n",
    "data_multi = {'Ville': ['Paris', 'Paris', 'Lyon', 'Lyon'],\n",
    "              'Année': [2022, 2023, 2022, 2023],\n",
    "              'Population': [2.1, 2.2, 0.5, 0.6]}\n",
    "df_multi = pd.DataFrame(data_multi)\n",
    "df_multi_indexed = df_multi.set_index(['Ville', 'Année'])\n",
    "print(df_multi_indexed)"
   ]
  },
  {
   "cell_type": "code",
   "execution_count": null,
   "id": "91b992bd-709a-4625-9463-aac41c11502f",
   "metadata": {},
   "outputs": [],
   "source": [
    "df=pd.read_csv('medical_cost.csv')\n",
    "df"
   ]
  },
  {
   "cell_type": "markdown",
   "id": "2466af8c-503f-4f9e-884c-42e021242b9d",
   "metadata": {},
   "source": [
    "✅ Questions nécessitant du filtrage conditionnel avec pandas que je dois repondre a la fin de ctte partie :\n",
    "\"Les fumeurs paient-ils significativement plus ?\"\n",
    "Filtrage sur smoker == 'yes' et smoker == 'no'\n",
    "\n",
    "\"Le sexe influence-t-il les charges ?\"\n",
    "Groupby sur sex, mais un filtrage peut être utilisé pour analyse spécifique.\n",
    "\n",
    "\"La région a-t-elle un impact sur les charges ?\"\n",
    "Groupby sur region, mais on peut filtrer pour comparer deux régions précises.\n",
    "\n",
    "\"Le nombre d’enfants influe-t-il sur les charges ?\"\n",
    "Groupby sur children, avec filtrage possible pour cas particuliers.\n",
    "\n",
    "\"Les personnes obèses (IMC > 30) ont-elles des frais plus élevés ?\"\n",
    "Filtrage sur bmi > 30 (obésité) vs bmi <= 30\n",
    "\n",
    "\"Quels profils de patients génèrent les plus fortes charges ?\"\n",
    "Filtrage sur charges > seuil, ou tri des charges élevées + conditions sur d'autres variables (smoker, age, etc.)\n",
    "\n",
    "\"Existe-t-il des outliers dans les charges ? Qui sont-ils ?\"\n",
    "Une fois les outliers identifiés (ex. avec z-score ou IQR), on les filtre pour les afficher."
   ]
  },
  {
   "cell_type": "markdown",
   "id": "39a3dd75-ed3f-4b1c-b1f4-09beba5149c8",
   "metadata": {},
   "source": [
    "#\"Les fumeurs paient-ils significativement plus ?\"\n",
    "pour répondre a cette questions tu dois \n",
    "- trier les fumeurs (smoker==yes),        \n",
    "(-trier les non fumeurs \n",
    "- comparer la moyenne de charge des fumeurs avec celui des non fumeurs"
   ]
  },
  {
   "cell_type": "code",
   "execution_count": null,
   "id": "c405259f-a78c-409a-b916-f6528cd1da23",
   "metadata": {},
   "outputs": [],
   "source": [
    "#trier les fumeurs \n",
    "fumeur=df['smoker']=='yes'\n",
    "df_fumeur=df[fumeur]\n",
    "df_fumeur"
   ]
  },
  {
   "cell_type": "code",
   "execution_count": null,
   "id": "a6b0a064-6616-437d-b9d9-c74f5da1c122",
   "metadata": {},
   "outputs": [],
   "source": [
    "#trier les noms fumeurs\n",
    "non_fumeur=df['smoker']=='no'\n",
    "df_non_fumeur=df[non_fumeur]\n",
    "df[non_fumeur]"
   ]
  },
  {
   "cell_type": "code",
   "execution_count": null,
   "id": "a5dec978-0f04-48f1-91ea-c27f2a831d98",
   "metadata": {},
   "outputs": [],
   "source": [
    "#calcul de la moyenne des charges pour le dataframe nommé fumeur(obtenu apres tri des fumeurs uniquement)\n",
    "moy_charges_fumeur=df_fumeur['charges']\n",
    "moy_charges_fumeur.mean()"
   ]
  },
  {
   "cell_type": "code",
   "execution_count": null,
   "id": "a41981b5-5cce-48d3-aea6-8818c8a888f0",
   "metadata": {},
   "outputs": [],
   "source": [
    "#calcul de la moyenne des charges pour le dataframe nommé non_fumeur(obtenu apres tri des non_fumeurs uniquement)\n",
    "moy_charges_non_fumeur=df_non_fumeur['charges']\n",
    "moy_charges_non_fumeur.mean()"
   ]
  },
  {
   "cell_type": "code",
   "execution_count": null,
   "id": "f6ccb6ae-8648-4526-899b-606a6778028e",
   "metadata": {},
   "outputs": [],
   "source": [
    "#faisons la comparaison des moyennes de charges de fumeur et la moyenne des charges des non fumeurs \n"
   ]
  },
  {
   "cell_type": "code",
   "execution_count": null,
   "id": "d804c33e-8339-4d16-8e0f-5acef99b9537",
   "metadata": {},
   "outputs": [],
   "source": [
    "\n"
   ]
  },
  {
   "cell_type": "markdown",
   "id": "b31faf74-b8cb-4d65-8070-5a433c38504b",
   "metadata": {},
   "source": [
    "\"Le sexe influence-t-il les charges ?\"pour répondre a cette questions tu dois\n",
    "-trier les femmes et\n",
    "-les hommes \n",
    "-comparer la moyenne des charges pour chaque sexe et conclure "
   ]
  },
  {
   "cell_type": "code",
   "execution_count": null,
   "id": "876e9ebf-ee5d-460c-b78b-ecc575be8be3",
   "metadata": {},
   "outputs": [],
   "source": [
    "#trier les femmes\n",
    "sex_female=df['sex']=='female'\n",
    "df_sex_female=df[sex_female]\n",
    "df_sex_female"
   ]
  },
  {
   "cell_type": "code",
   "execution_count": null,
   "id": "a58699e6-b207-4e24-aa96-fb48f2f0673c",
   "metadata": {},
   "outputs": [],
   "source": [
    "#trier les mâles\n",
    "sex_male=df['sex']=='male'\n",
    "df_sex_male=df[sex_male]\n",
    "df_sex_male"
   ]
  },
  {
   "cell_type": "code",
   "execution_count": null,
   "id": "58e38a04-197a-4012-8452-28870e3ce6c3",
   "metadata": {},
   "outputs": [],
   "source": [
    "#-comparer la moyenne des charges pour chaque sexe \n",
    "# moyenne des charges pour les males "
   ]
  },
  {
   "cell_type": "code",
   "execution_count": null,
   "id": "f6193c55-f9e9-4482-9491-37107caa5c0a",
   "metadata": {},
   "outputs": [],
   "source": [
    "df_sex_male['charges'].mean()"
   ]
  },
  {
   "cell_type": "code",
   "execution_count": null,
   "id": "1c5ca3c5-49dd-48db-8f8b-ce84a81c9c9b",
   "metadata": {},
   "outputs": [],
   "source": [
    "df_sex_female['charges'].mean()"
   ]
  },
  {
   "cell_type": "code",
   "execution_count": null,
   "id": "ba72ab83-dbcc-40f7-ae0b-94686a21c9da",
   "metadata": {},
   "outputs": [],
   "source": [
    "comparaison=df_sex_female['charges'].mean()<df_sex_male['charges'].mean()\n",
    "if comparaison:\n",
    "    print('Les hommes paieraient en moyenne plus que les femmes.\\nMais la différence peut être faible et partiellement due à des effets de confusion (comme la region , l\\'age)')\n",
    "else:\n",
    "    print('Les femmes paieraient en moyenne plus que les hommes, ou la différence est négligeable.')"
   ]
  },
  {
   "cell_type": "code",
   "execution_count": null,
   "id": "9cfdf7b6-2eb6-4270-996a-e7af09c13127",
   "metadata": {},
   "outputs": [],
   "source": [
    "# en pandas 'and' ce note '&'\n",
    "# 'ou' ce note '|'"
   ]
  },
  {
   "cell_type": "markdown",
   "id": "afcb1be2-322c-48dc-aeec-530bb45be1a6",
   "metadata": {},
   "source": [
    "b ien que python dispose de nombreuses methodes integrees,nous pouvons utliliser l'appel de methode .apply()pour appliquer une fonction personnalise de notre choix a chaque ligne d'une serie"
   ]
  },
  {
   "cell_type": "markdown",
   "id": "5ed11c18-fee5-4ff3-bde3-483d089cac48",
   "metadata": {},
   "source": [
    "#methode permettant d'extraire les n derniers chiffres  d'un nombre ou d'une chaine\n",
    "il y'a pas une fonction intégré a pandas qui fait celle \n",
    "nous pouvons alors definir notre propre  fonction"
   ]
  },
  {
   "cell_type": "code",
   "execution_count": null,
   "id": "97b00be3-2b81-4524-8ed0-58cb0fd40a2c",
   "metadata": {
    "scrolled": true
   },
   "outputs": [],
   "source": [
    "1234567890[-4]\n",
    "#je veux indexcer les 4 derniers chiffres de ce nombre"
   ]
  },
  {
   "cell_type": "code",
   "execution_count": null,
   "id": "c2451a3f-f07d-4adf-a717-36203faa5b30",
   "metadata": {},
   "outputs": [],
   "source": [
    "#'INT' objet is not subscriptable \n",
    "#cela signifie qu'on ne peut pas indexcer des entiers \n",
    "#pour donc indexcer les 4 derniers chiffres de ce nombre je vais \n",
    "#-le convertir en chaine de caractère (type string ) ; indexcer ensuite les 4 derniers chiffres de nomtre chaine de caractèreet reconvertir le resultat obtenu en entier \n",
    "str(1234567890)\n",
    "b=str(1234567890)\n",
    "b"
   ]
  },
  {
   "cell_type": "code",
   "execution_count": null,
   "id": "89a041ae-a696-40d9-8a0c-c7d1974e17c9",
   "metadata": {},
   "outputs": [],
   "source": [
    "type (b)"
   ]
  },
  {
   "cell_type": "code",
   "execution_count": null,
   "id": "e583c82b-3ea0-48a9-8779-7e28d52bd8b6",
   "metadata": {},
   "outputs": [],
   "source": [
    "int(str(1234567890)[-4:])"
   ]
  },
  {
   "cell_type": "code",
   "execution_count": null,
   "id": "810b4778-537e-4946-bd46-65996248e44a",
   "metadata": {},
   "outputs": [],
   "source": [
    "# le problème est que si nous devons extraire les 4 derniers chiffres de nombres d'un tableau \n",
    "#faire ses etapes sera trop longues\n",
    "# alors nous pour definir une fonction pour automatisé la tache \n",
    "def derniers_chiffres(num):\n",
    "    derniers_chiffres=int(str(num)[-4:])\n",
    "    print(derniers_chiffres)"
   ]
  },
  {
   "cell_type": "code",
   "execution_count": null,
   "id": "f4fac4ad-32ac-4c40-9cf1-3640858b9b02",
   "metadata": {},
   "outputs": [],
   "source": [
    "derniers_chiffres(987654321)\n",
    "derniers_chiffres(3456789219876)"
   ]
  },
  {
   "cell_type": "code",
   "execution_count": null,
   "id": "8d7dcd7e-a1b3-47eb-8dc0-8f52aceb5efa",
   "metadata": {},
   "outputs": [],
   "source": [
    "import pandas as pd\n",
    "\n",
    "data = {'Nom': ['Alice', 'Bob', 'Charlie'],\n",
    "        'Âge': [25203948,23456,987654],\n",
    "        'Ville': ['Paris', 'Berlin', 'Rome']}\n",
    "df = pd.DataFrame(data)\n",
    "df['Âge'].apply(derniers_chiffres)\n",
    "#ici la fonction derniers_chiffres() sera appliquer a toutes les lignes de la colonne Age \n"
   ]
  },
  {
   "cell_type": "markdown",
   "id": "726597d2-110e-486a-92af-ecdbf3506014",
   "metadata": {},
   "source": [
    ".min()pour connaitre la valeur minimale \n",
    ".idmin() pour connaitre l'index du minimal\n",
    ".max() pour connaitre la valeur maximaximale \n",
    ".idmax() pour connatre l'index du max\n",
    ".corr() verifie la correlation entre 2 series de valeurs numériques uniquement"
   ]
  },
  {
   "cell_type": "code",
   "execution_count": null,
   "id": "74224855-24f6-4724-b355-4b958ffd3139",
   "metadata": {},
   "outputs": [],
   "source": [
    "import numpy as np\n",
    "import pandas as pd \n",
    "df=pd.read_csv('medical_cost.csv')\n",
    "df.min()\n"
   ]
  },
  {
   "cell_type": "code",
   "execution_count": null,
   "id": "82796d59-006d-4954-b23d-df3fdf99101a",
   "metadata": {},
   "outputs": [],
   "source": [
    "#.corr() permet de calculer la corrélation par paire de colonne numerique\n",
    "import numpy as np\n",
    "import pandas as pd \n",
    "df=pd.read_csv('medical_cost.csv')\n",
    "df.corr()"
   ]
  },
  {
   "cell_type": "markdown",
   "id": "e876b1db-a6d7-4052-aaa8-6a70984338a3",
   "metadata": {},
   "source": [
    "L'erreur ValueError: could not convert string to float: 'female' indique clairement que vous essayez de calculer la corrélation sur un DataFrame qui contient des colonnes non numériques (dans ce cas, des chaînes de caractères comme 'female').\n",
    "\n",
    "Comme je l'ai mentionné précédemment, la méthode .corr() de Pandas ne fonctionne qu'avec les colonnes numériques. Elle tente de calculer la corrélation par paire entre toutes les colonnes et rencontre une erreur lorsqu'elle tombe sur une colonne de type chaîne de caractères car la corrélation n'est pas définie pour les données catégorielles sous cette forme.\n",
    "Pour résoudre ce problème, vous avez plusieurs options :"
   ]
  },
  {
   "cell_type": "code",
   "execution_count": null,
   "id": "1fecf18b-69c3-4c34-b0f8-2964aecc53cf",
   "metadata": {},
   "outputs": [],
   "source": [
    "#Supprimer les colonnes non numériques du DataFrame avant d'appliquer\n",
    "import numpy as np\n",
    "import pandas as pd \n",
    "df=pd.read_csv('medical_cost.csv')\n",
    "df=df.drop(labels=['sex','region','smoker'],axis=1)\n",
    "df.corr()"
   ]
  },
  {
   "cell_type": "markdown",
   "id": "399854be-8cab-46b9-82bd-7e45cb46f435",
   "metadata": {},
   "source": [
    "INTERPRETATION \n",
    "\n",
    "age a une corrélation positive modérée avec charges.\n",
    "bmi a une faible corrélation positive avec charges.\n",
    "children a une très faible corrélation positive avec charges."
   ]
  },
  {
   "cell_type": "code",
   "execution_count": null,
   "id": "96db6a5c-2b4a-4426-bfef-74ed0c54574f",
   "metadata": {},
   "outputs": [],
   "source": [
    "import numpy as np\n",
    "import pandas as pd \n",
    "df=pd.read_csv('medical_cost.csv')\n",
    "df['sex'].replace(['female','male'],value=['0','1'])\n",
    "df['region'].replace(['southeast','\tnorthwest'],value=['0','1'])\n",
    "df['smoker'].replace(['no','yes'],value=['0','1'])\n",
    "df.corr()"
   ]
  },
  {
   "cell_type": "markdown",
   "id": "5575c652-65b3-4182-be57-f6feb5a565d4",
   "metadata": {},
   "source": [
    "L'erreur 'ValueError: could not convert string to float: 'female' se produit parce que la méthode .replace() dans Pandas, telle que vous l'utilisez ici, ne modifie pas le type de données de la colonne. Elle remplace les chaînes de caractères 'female' et 'male' par les chaînes de caractères '0' et '1' respectivement.\n",
    "\n",
    "La fonction .corr() de Pandas nécessite des colonnes de type numérique (entier ou flottant) pour calculer la corrélation. Puisque vos colonnes 'sex', 'region' et 'smoker' contiennent maintenant des chaînes de caractères ('0' et '1'), .corr() essaie de les convertir en nombres pour effectuer le calcul, mais elle rencontre la chaîne 'female' (ou potentiellement d'autres valeurs originales si le remplacement n'a pas été complet pour une raison quelconque).\n",
    "\n",
    "Pour corriger cela, vous devez vous assurer que les colonnes après le remplacement sont de type numérique. Voici comment vous pouvez modifier votre code :"
   ]
  },
  {
   "cell_type": "code",
   "execution_count": null,
   "id": "1e02eb58-8c26-48c4-a8a6-2429f4f83fb1",
   "metadata": {},
   "outputs": [],
   "source": [
    "import numpy as np\n",
    "import pandas as pd \n",
    "df=pd.read_csv('medical_cost.csv')\n",
    "df['sex']=df['sex'].replace(['female','male'],value=['0','1']).astype(int)\n",
    "df['region']=df['region'].replace(['southeast', 'northwest', 'southwest', 'northeast'], [0, 1, 2, 3]).astype(int)\n",
    "df['smoker']=df['smoker'].replace(['no','yes'],value=['0','1']).astype(int)\n",
    "df.corr()"
   ]
  },
  {
   "cell_type": "markdown",
   "id": "69573628-2032-4dc8-b1bb-1e7e5bd8efaa",
   "metadata": {},
   "source": [
    "Nombre d'enfants et charges : Très faible corrélation positive (0.068), donc influence minime.\n",
    "Sexe et charges : Très faible corrélation positive (0.057), donc influence très faible.\n",
    "Variables les plus corrélées avec les charges : 'smoker' (0.787, forte corrélation positive) et 'age' (0.299, corrélation positive modérée).\n",
    "Région et charges : Très faible corrélation négative (-0.041), l'impact direct est faible selon cet encodage numérique. Une analyse avec One-Hot Encoding serait plus informative.\n",
    "Fumeurs et coûts : Oui, corrélation positive très forte (0.787), ils paient significativement plus."
   ]
  },
  {
   "cell_type": "markdown",
   "id": "b17978bf-2146-4da2-a726-e4ee482d5da6",
   "metadata": {},
   "source": [
    "Les coûts médicaux ('charges') sont fortement liés au statut de fumeur, et modérément liés à l'âge et faiblement au BMI. Le sexe et le nombre d'enfants ont une influence très faible. L'identifiant est sans lien. L'impact de la région sur les coûts est difficile à interpréter avec cet encodage. La corrélation n'implique pas de causalité."
   ]
  },
  {
   "cell_type": "markdown",
   "id": "d39c92e0-020b-4d3f-a0d2-4045e6e02334",
   "metadata": {},
   "source": [
    "df.sort_values() est une méthode puissante en Pandas qui te permet de trier les lignes d'un DataFrame en fonction des valeurs d'une ou plusieurs colonnes. C'est essentiel pour organiser tes données, les analyser dans un ordre spécifique ou les préparer pour d'autres traitements.\n",
    "\n",
    "Voici comment elle fonctionne et ses principaux paramètres :\n",
    "\n",
    "Syntaxe de base :\n",
    "\n",
    "df_trié = df.sort_values(by='NomDeLaColonne')\n",
    "\n",
    "df : Le DataFrame que tu souhaites trier.\n",
    "by='NomDeLaColonne' : L'argument by spécifie la ou les colonnes à utiliser comme critère de tri. Tu peux passer une seule chaîne de caractères pour trier par une colonne, ou une liste de chaînes de caractères pour trier par plusieurs colonnes (le tri sera effectué dans l'ordre des colonnes dans la liste).\n",
    "df_trié : La méthode sort_values() renvoie un nouveau DataFrame trié. Le DataFrame original (df) n'est pas modifié, sauf si tu utilises l'argument inplace=True.\n",
    "Paramètres importants :\n",
    "\n",
    "by : (str ou liste de str) Colonne(s) à trier. Obligatoire.\n",
    "\n",
    "axis : ({0 ou 'index', 1 ou 'columns'}, par défaut 0) Axe à trier. 0 ou 'index' pour trier les lignes (par défaut), 1 ou 'columns' pour trier les colonnes (ce qui est moins courant).\n",
    "\n",
    "ascending : (bool ou liste de bool, par défaut True) Indique si le tri doit être ascendant (True) ou descendant (False). Si tu tries par plusieurs colonnes, tu peux passer une liste de booléens correspondant à l'ordre de tri souhaité pour chaque colonne.\n",
    "\n",
    "inplace : (bool, par défaut False) Si True, le tri est effectué directement sur le DataFrame original (aucune nouvelle copie n'est retournée). Utilise-le avec précaution.\n",
    "\n",
    "kind : ({'quicksort', 'mergesort', 'heapsort'}, par défaut 'quicksort') Algorithme de tri à utiliser. Les options disponibles sont 'quicksort' (rapide mais pas stable), 'mergesort' (stable), et 'heapsort' (pas stable). 'mergesort' est le seul algorithme stable.\n",
    "\n",
    "na_position : ({'first', 'last'}, par défaut 'last') Spécifie où placer les valeurs NaN (Not a Number). 'first' pour les placer au début, 'last' pour les placer à la fin.\n",
    "\n",
    "ignore_index : (bool, par défaut False) Si True, l'index du DataFrame résultant sera réinitialisé à 0, 1, ..., n-1.\n",
    "\n",
    "Exemples :\n",
    "\n"
   ]
  },
  {
   "cell_type": "code",
   "execution_count": 26,
   "id": "79680a08-8a64-43d2-9d0e-7c9929ea5849",
   "metadata": {},
   "outputs": [
    {
     "name": "stdout",
     "output_type": "stream",
     "text": [
      "        Id  age     sex     bmi  children smoker     region      charges\n",
      "1248  1249   18  female  39.820         0     no  southeast   1633.96180\n",
      "482    483   18  female  31.350         0     no  southeast   1622.18850\n",
      "492    493   18  female  25.080         0     no  northeast   2196.47320\n",
      "525    526   18  female  33.880         0     no  southeast  11482.63485\n",
      "529    530   18    male  25.460         0     no  northeast   1708.00140\n",
      "...    ...  ...     ...     ...       ...    ...        ...          ...\n",
      "398    399   64    male  25.600         2     no  southwest  14988.43200\n",
      "335    336   64    male  34.500         0     no  southwest  13822.80300\n",
      "378    379   64  female  30.115         3     no  northwest  16455.70785\n",
      "1265  1266   64    male  23.760         0    yes  southeast  26926.51440\n",
      "635    636   64    male  38.190         0     no  northeast  14410.93210\n",
      "\n",
      "[1338 rows x 8 columns]\n"
     ]
    }
   ],
   "source": [
    "#Trier par une seule colonne ('age') en ordre ascendant :\n",
    "df_trié_age_asc = df.sort_values(by='age')\n",
    "print(df_trié_age_asc)"
   ]
  },
  {
   "cell_type": "code",
   "execution_count": 27,
   "id": "9b165d14-3b31-448c-a989-042d7c18deac",
   "metadata": {},
   "outputs": [
    {
     "name": "stdout",
     "output_type": "stream",
     "text": [
      "        Id  age     sex     bmi  children smoker     region      charges\n",
      "543    544   54  female  47.410         0    yes  southeast  63770.42801\n",
      "1300  1301   45    male  30.360         0    yes  southeast  62592.87309\n",
      "1230  1231   52    male  34.485         3    yes  northwest  60021.39897\n",
      "577    578   31  female  38.095         1    yes  northeast  58571.07448\n",
      "819    820   33  female  35.530         0    yes  northwest  55135.40209\n",
      "...    ...  ...     ...     ...       ...    ...        ...          ...\n",
      "22      23   18    male  34.100         0     no  southeast   1137.01100\n",
      "663    664   18    male  33.660         0     no  southeast   1136.39940\n",
      "1244  1245   18    male  33.330         0     no  southeast   1135.94070\n",
      "808    809   18    male  30.140         0     no  southeast   1131.50660\n",
      "940    941   18    male  23.210         0     no  southeast   1121.87390\n",
      "\n",
      "[1338 rows x 8 columns]\n"
     ]
    }
   ],
   "source": [
    "#Trier par une seule colonne ('charges') en ordre descendant \n",
    "df_trié_charges_desc = df.sort_values(by='charges', ascending=False)\n",
    "print(df_trié_charges_desc)"
   ]
  },
  {
   "cell_type": "code",
   "execution_count": 28,
   "id": "8e142f9c-d2c5-4e56-90c5-40b8fe0ae472",
   "metadata": {},
   "outputs": [
    {
     "name": "stdout",
     "output_type": "stream",
     "text": [
      "        Id  age     sex    bmi  children smoker     region      charges\n",
      "940    941   18    male  23.21         0     no  southeast   1121.87390\n",
      "808    809   18    male  30.14         0     no  southeast   1131.50660\n",
      "1244  1245   18    male  33.33         0     no  southeast   1135.94070\n",
      "663    664   18    male  33.66         0     no  southeast   1136.39940\n",
      "22      23   18    male  34.10         0     no  southeast   1137.01100\n",
      "...    ...  ...     ...    ...       ...    ...        ...          ...\n",
      "62      63   64    male  24.70         1     no  northwest  30166.61817\n",
      "420    421   64    male  33.88         0    yes  southeast  46889.26120\n",
      "94      95   64  female  31.30         2    yes  southwest  47291.05500\n",
      "328    329   64  female  33.80         1    yes  southwest  47928.03000\n",
      "1241  1242   64    male  36.96         2    yes  southeast  49577.66240\n",
      "\n",
      "[1338 rows x 8 columns]\n"
     ]
    }
   ],
   "source": [
    "#Trier par plusieurs colonnes ('age' puis 'charges') en ordre ascendant pour les deux :\n",
    "df_trié_age_charges_asc = df.sort_values(by=['age', 'charges'])\n",
    "print(df_trié_age_charges_asc)"
   ]
  },
  {
   "cell_type": "code",
   "execution_count": 29,
   "id": "ffbe8439-0c5e-4784-80b8-116b2888f4ba",
   "metadata": {},
   "outputs": [
    {
     "name": "stdout",
     "output_type": "stream",
     "text": [
      "      Id  age     sex     bmi  children smoker     region      charges\n",
      "803  804   18  female  42.240         0    yes  southeast  38792.68560\n",
      "759  760   18    male  38.170         0    yes  southeast  36307.79830\n",
      "161  162   18  female  36.850         0    yes  southeast  36149.48350\n",
      "623  624   18    male  33.535         0    yes  northeast  34617.84065\n",
      "57    58   18    male  31.680         2    yes  southeast  34303.16720\n",
      "..   ...  ...     ...     ...       ...    ...        ...          ...\n",
      "768  769   64  female  39.700         0     no  southwest  14319.03100\n",
      "801  802   64  female  35.970         0     no  southeast  14313.84630\n",
      "752  753   64    male  37.905         0     no  northwest  14210.53595\n",
      "534  535   64    male  40.480         0     no  southeast  13831.11520\n",
      "335  336   64    male  34.500         0     no  southwest  13822.80300\n",
      "\n",
      "[1338 rows x 8 columns]\n"
     ]
    }
   ],
   "source": [
    "#Trier par plusieurs colonnes ('age' en ascendant, 'charges' en descendant) :\n",
    "df_trié_age_asc_charges_desc = df.sort_values(by=['age', 'charges'], ascending=[True, False])\n",
    "print(df_trié_age_asc_charges_desc)"
   ]
  },
  {
   "cell_type": "markdown",
   "id": "9a411b89-1de5-48db-8358-76172bc0f79e",
   "metadata": {},
   "source": [
    "En résumé, df.sort_values() est un outil flexible pour organiser tes données selon tes besoins, que ce soit par une seule variable ou une combinaison de plusieurs, et en choisissant l'ordre de tri et la gestion des valeurs manquantes."
   ]
  },
  {
   "cell_type": "code",
   "execution_count": null,
   "id": "7d246ffe-6db8-43a3-84af-c7d2294986dd",
   "metadata": {},
   "outputs": [],
   "source": []
  },
  {
   "cell_type": "markdown",
   "id": "c6c99921-e7b4-4abd-96dc-4970fec011d0",
   "metadata": {},
   "source": [
    "DONNEES MANQUANTES\n",
    "* les garder\n",
    "* les supprimer\n",
    "* les remplacer"
   ]
  },
  {
   "cell_type": "markdown",
   "id": "28ad578c-f228-48b4-830a-8c70944ab4ed",
   "metadata": {},
   "source": [
    "Identification des valeurs manquantes dans un DataFrame Pandas\n",
    "Pandas offre plusieurs méthodes pour identifier les valeurs manquantes, qui sont généralement représentées par NaN (Not a Number).\n",
    "\n",
    "1. Méthode isnull()\n",
    "\n",
    "Fonctionnement : Appliquée à un DataFrame ou une Series, elle renvoie un DataFrame ou une Series de booléens de même forme, où True indique une valeur manquante et False une valeur non manquante.\n",
    "\n",
    "Syntaxe :\n",
    "df.isnull()  # Pour un DataFrame\n",
    "series.isnull() # Pour une Serie\n",
    "\n",
    "Exemple :s"
   ]
  },
  {
   "cell_type": "code",
   "execution_count": null,
   "id": "c2ee7255-5b1c-4f78-a6d2-902e7ac0cec0",
   "metadata": {},
   "outputs": [],
   "source": [
    "import pandas as pd\n",
    "import numpy as np\n",
    "\n",
    "data = {'col1': [1, 2, np.nan, 4],\n",
    "        'col2': ['A', np.nan, 'C', 'D'],\n",
    "        'col3': [True, False, True, np.nan]}\n",
    "df = pd.DataFrame(data)\n",
    "df.isnull()"
   ]
  },
  {
   "cell_type": "markdown",
   "id": "c3618be4-19ad-4d99-a3ff-2b67091514ad",
   "metadata": {},
   "source": [
    ". Méthode notnull()\n",
    "\n",
    "Fonctionnement : Contrairement à isnull(), elle renvoie True pour les valeurs non manquantes et False pour les valeurs manquantes.\n",
    "\n",
    "Syntaxe :\n",
    "df.notnull()  # Pour un DataFrame\n",
    "series.notnull() # Pour une Series"
   ]
  },
  {
   "cell_type": "code",
   "execution_count": null,
   "id": "b1dd4d0f-98a4-4c19-a40e-e99f3fa22593",
   "metadata": {},
   "outputs": [],
   "source": [
    "import pandas as pd\n",
    "import numpy as np\n",
    "data = {'col1': [1, 2, np.nan, 4],\n",
    "        'col2': ['A', np.nan, 'C', 'D'],\n",
    "        'col3': [True, False, True, np.nan]}\n",
    "df = pd.DataFrame(data)\n",
    "df.notnull()"
   ]
  },
  {
   "cell_type": "code",
   "execution_count": null,
   "id": "4b99e74a-3825-4137-a093-9672cba4bae3",
   "metadata": {},
   "outputs": [],
   "source": [
    "import pandas as pd\n",
    "import numpy as np\n",
    "\n",
    "data = {'col1': [1, 2, np.nan, 4],\n",
    "        'col2': ['A', np.nan, 'C', 'D'],\n",
    "        'col3': [True, False, True, np.nan]}\n",
    "df = pd.DataFrame(data)\n",
    "nombre_na_par_colonne = df.isnull().sum()\n",
    "nombre_na_par_colonne"
   ]
  },
  {
   "cell_type": "code",
   "execution_count": null,
   "id": "e2cb4329-cd03-45a8-9ba6-1bb80feaf094",
   "metadata": {},
   "outputs": [],
   "source": [
    "import pandas as pd\n",
    "import numpy as np\n",
    "df=pd.read_csv('medical_cost.csv')\n",
    "nombre_na_par_colonne = df.isnull().sum()\n",
    "nombre_na_par_colonne"
   ]
  },
  {
   "cell_type": "markdown",
   "id": "b2e48295-3d70-4d1a-b9e4-8dd181b5e0fd",
   "metadata": {},
   "source": [
    "Interprétation :\n",
    "\n",
    "Ce résultat de df.isnull().sum() indique le nombre de valeurs manquantes (NaN) présentes dans chaque colonne de votre DataFrame df (qui a été créé en lisant le fichier 'medical_cost.csv').\n",
    "\n",
    "Pour chaque colonne listée ('Id', 'age', 'sex', 'bmi', 'children', 'smoker', 'region', 'charges'), la valeur affichée est 0.\n",
    "\n",
    "Cela signifie qu'il n'y a aucune valeur manquante (NaN) dans aucune des colonnes de votre DataFrame."
   ]
  },
  {
   "cell_type": "markdown",
   "id": "153131f4-7e14-4a88-b0c9-eab269aa000c",
   "metadata": {},
   "source": []
  },
  {
   "cell_type": "markdown",
   "id": "3958bd63-2faf-4df8-908e-9fb1dc92a17e",
   "metadata": {},
   "source": [
    "Concentrons-nous précisément sur la partie du code qui sert à vérifier s'il y a la présence de doublons dans un DataFrame\n",
    "La ligne clé pour cette vérification est :\n",
    "has_duplicates = df.duplicated().any()\n",
    "Et pour afficher le résultat de cette vérification :\n",
    "print(\"Présence de doublons :\", has_duplicates)"
   ]
  },
  {
   "cell_type": "code",
   "execution_count": null,
   "id": "1909a0c4-c035-4279-87b6-268243847d1a",
   "metadata": {},
   "outputs": [],
   "source": [
    "import pandas as pd\n",
    "import numpy as np \n",
    "\n",
    "df=pd.read_csv('medical_cost.csv')\n",
    "\n",
    "has_duplicates = df.duplicated().any()\n",
    "print(\"Présence de doublons :\", has_duplicates)"
   ]
  },
  {
   "cell_type": "markdown",
   "id": "1664d765-14a4-4539-b081-643c27ad67a5",
   "metadata": {},
   "source": [
    "\n",
    "La sortie Présence de doublons : False signifie que le code a vérifié le fichier medical_cost.csv et n'a trouvé aucune ligne entièrement dupliquée dans les données\n",
    "\n",
    "\n",
    "vVoici l'explication détaillée :\n",
    "\n",
    "Le fondement : df.duplicated()\n",
    "\n",
    "Pour savoir s'il y a des doublons, il faut d'abord pouvoir les identifier. C'est le rôle de la méthode df.duplicated().\n",
    "Ce qu'elle fait : Elle examine chaque ligne du DataFrame df et la compare aux lignes précédentes.\n",
    "Comment elle identifie un doublon : Par défaut, une ligne est considérée comme un doublon si toutes les valeurs dans toutes ses colonnes sont identiques à celles d'une ligne qui apparaît plus tôt dans le DataFrame.\n",
    "Le résultat de df.duplicated() : Elle ne renvoie pas un simple \"oui/non\". Elle génère une pandas Series (une colonne de données) qui a la même longueur que votre DataFrame df. Cette Series contient des valeurs booléennes (True ou False) pour chaque ligne :\n",
    "True : La ligne correspondante dans df est une copie exacte d'une ligne déjà vue précédemment.\n",
    "False : La ligne correspondante n'est pas une copie exacte d'une ligne déjà vue précédemment (c'est soit une combinaison unique, soit la première apparition d'une combinaison qui se répétera plus tard).\n",
    "Important : Par défaut, la toute première apparition d'un ensemble de lignes identiques est marquée False. Seules les occurrences suivantes (la 2ème, la 3ème, etc.) sont marquées True.\n",
    "La vérification de présence : .any()\n",
    "\n",
    "La méthode df.duplicated() nous donne une Series qui est une \"carte\" indiquant où sont les doublons après la première occurrence. Maintenant, pour savoir s'il y a au moins un True dans cette carte (c'est-à-dire, s'il y a au moins un doublon), on utilise la méthode .any().\n",
    "Ce qu'elle fait : .any() est appliquée à une Series de booléens. Elle vérifie s'il y a au moins une valeur True dans cette Series.\n",
    "Le résultat de .any() : Elle renvoie une unique valeur booléenne :\n",
    "True : S'il y avait au moins un True dans la Series d'entrée. Cela signifie qu'au moins un doublon a été trouvé par df.duplicated().\n",
    "False : Si toutes les valeurs de la Series d'entrée étaient False. Cela signifie qu'aucun doublon (après la première occurrence) n'a été trouvé, donc il n'y a globalement aucun doublon dans le DataFrame.\n",
    "La combinaison : has_duplicates = df.duplicated().any()\n",
    "\n",
    "Cette ligne exécute d'abord df.duplicated() pour obtenir la Series de True/False.\n",
    "Puis, elle applique .any() à cette Series.\n",
    "Le résultat final (True ou False) est stocké dans la variable has_duplicates. Cette variable contient donc la réponse simple à la question : \"Y a-t-il des doublons dans ce DataFrame ?\".\n",
    "L'affichage : print(\"Présence de doublons :\", has_duplicates)\n",
    "\n",
    "Cette ligne utilise la fonction print() pour afficher le résultat de la vérification (True ou False) à l'écran, précédé d'un texte explicatif."
   ]
  },
  {
   "cell_type": "markdown",
   "id": "d98f5d7b-2c24-4f4a-981d-9774ee3f8497",
   "metadata": {},
   "source": [
    "Expliquons en détail la partie du code qui supprime les doublons et conserve la première occurrence.\n",
    "La ligne spécifique qui réalise cette opération est :\n",
    "# Supprime les doublons et garde la première occurrence\n",
    "df.drop_duplicates(inplace=True\n",
    "\n",
    "Décortiquons cette ligne :\n",
    "\n",
    "df.drop_duplicates()\n",
    "\n",
    "Ce que c'est : C'est une autre méthode très utile fournie par pandas, appliquée directement au DataFrame df.\n",
    "Son rôle principal : Elle est conçue spécifiquement pour identifier et supprimer les lignes dupliquées d'un DataFrame.\n",
    "Comment ça marche par défaut :\n",
    "Comme pour df.duplicated(), drop_duplicates() compare les lignes et considère qu'elles sont dupliquées si toutes les valeurs de toutes les colonnes correspondent exactement à une autre ligne.\n",
    "Par défaut, drop_duplicates() a un argument keep qui est réglé sur 'first'. Cela signifie que lorsqu'un ensemble de lignes identiques est trouvé, la méthode garde la toute première ligne de cet ensemble (celle qui apparaît le plus tôt dans le DataFrame original) et supprime toutes les occurrences ultérieures de cette même ligne.\n",
    "Il existe d'autres options pour keep ('last' pour garder la dernière occurrence, False pour supprimer toutes les occurrences si un doublon existe), mais 'first' est le comportement par défaut et celui utilisé ici implicitement.\n",
    "inplace=True\n",
    "\n",
    "Ce que c'est : C'est un argument passé à la méthode drop_duplicates().\n",
    "Son rôle crucial : Cet argument contrôle la manière dont la méthode modifie le DataFrame.\n",
    "Si inplace=True : La méthode drop_duplicates() modifie le DataFrame df directement. Les lignes dupliquées sont retirées de l'objet df lui-même. La méthode ne renvoie rien (techniquement, elle renvoie None). C'est comme si vous \"nettoyiez\" votre feuille de calcul originale.\n",
    "Si inplace=False (c'est la valeur par défaut si vous omettez l'argument inplace) : La méthode drop_duplicates() ne modifie PAS le DataFrame df original. Au lieu de cela, elle crée un nouveau DataFrame qui contient les données de df mais sans les doublons. La méthode renvoie ce nouveau DataFrame. Pour mettre à jour votre variable df, vous devriez alors écrire df = df.drop_duplicates(inplace=False) ou simplement df = df.drop_duplicates().\n",
    "Dans votre code (inplace=True) : Cette ligne signifie donc que vous voulez supprimer les doublons directement du DataFrame df. Après l'exécution de cette ligne, la variable df contiendra les données épurées, sans les doublons (sauf leur première occurrence).\n",
    "En résumé pour la suppression :\n",
    "\n",
    "La ligne df.drop_duplicates(inplace=True) utilise la méthode drop_duplicates pour trouver les lignes qui sont des copies exactes d'autres lignes. Elle décide de garder la toute première fois que chaque combinaison unique de valeurs apparaît (keep='first' implicite) et jette toutes les copies suivantes. L'argument inplace=True s'assure que cette modification (la suppression des doublons) est appliquée directement au DataFrame df sur lequel la méthode est appelée, sans créer de nouvelle copie du DataFrame en mémoire (sauf temporairement pendant l'opération).\n",
    "\n",
    ")"
   ]
  },
  {
   "cell_type": "code",
   "execution_count": null,
   "id": "8e128a2c-33ff-4677-bcac-583859f2b254",
   "metadata": {},
   "outputs": [],
   "source": [
    "import pandas as pd\n",
    "\n",
    "data = {'ID': [1, 2, 1, 3, 2, 1],\n",
    "        'Valeur': [100, 200, 100, 300, 200, 100],\n",
    "        'Catégorie': ['A', 'B', 'A', 'C', 'B', 'A']}\n",
    "df = pd.DataFrame(data)\n",
    "has_duplicates = df.duplicated().any()\n",
    "print(\"Présence de doublons :\", has_duplicates)"
   ]
  },
  {
   "cell_type": "code",
   "execution_count": null,
   "id": "6d625917-5d68-4d13-ada9-ad820f74cc5d",
   "metadata": {},
   "outputs": [],
   "source": [
    "# Supprime les doublons et garde la première occurrence\n",
    "df.drop_duplicates()\n"
   ]
  },
  {
   "cell_type": "code",
   "execution_count": null,
   "id": "865706ca-4c78-4bf7-a1ef-58172a5ab303",
   "metadata": {},
   "outputs": [],
   "source": [
    "import pandas as pd\n",
    "import numpy as np \n",
    "\n",
    "df=pd.read_csv('medical_cost.csv')\n",
    "\n",
    "has_duplicates = df.duplicated().any()\n",
    "print(\"Présence de doublons :\", has_duplicates)\n",
    "# Supprime les doublons et garde la première occurrence\n",
    "df=df.drop_duplicates()\n",
    "df"
   ]
  },
  {
   "cell_type": "code",
   "execution_count": 25,
   "id": "3c56b993-3b25-4efd-bfd4-483f43cd664d",
   "metadata": {},
   "outputs": [
    {
     "data": {
      "text/plain": [
       "array(['southwest', 'southeast', 'northwest', 'northeast'], dtype=object)"
      ]
     },
     "execution_count": 25,
     "metadata": {},
     "output_type": "execute_result"
    }
   ],
   "source": [
    "df=pd.read_csv('medical_cost.csv')\n",
    "df['region'].unique()"
   ]
  },
  {
   "cell_type": "markdown",
   "id": "49689c84-841c-45e2-848e-1f63b1bd9725",
   "metadata": {},
   "source": [
    "une operation groupby() nous permet d'examiner les données par categorie\n",
    "'Les personnes obèses (IMC > 30) ont-elles des frais plus élevés ? '"
   ]
  },
  {
   "cell_type": "code",
   "execution_count": 26,
   "id": "0ef5853f-4e11-49b7-87cc-f7c6014248cd",
   "metadata": {},
   "outputs": [
    {
     "ename": "TypeError",
     "evalue": "agg function failed [how->mean,dtype->object]",
     "output_type": "error",
     "traceback": [
      "\u001b[1;31m---------------------------------------------------------------------------\u001b[0m",
      "\u001b[1;31mTypeError\u001b[0m                                 Traceback (most recent call last)",
      "File \u001b[1;32m~\\anaconda3\\Lib\\site-packages\\pandas\\core\\groupby\\groupby.py:1942\u001b[0m, in \u001b[0;36mGroupBy._agg_py_fallback\u001b[1;34m(self, how, values, ndim, alt)\u001b[0m\n\u001b[0;32m   1941\u001b[0m \u001b[38;5;28;01mtry\u001b[39;00m:\n\u001b[1;32m-> 1942\u001b[0m     res_values \u001b[38;5;241m=\u001b[39m \u001b[38;5;28mself\u001b[39m\u001b[38;5;241m.\u001b[39m_grouper\u001b[38;5;241m.\u001b[39magg_series(ser, alt, preserve_dtype\u001b[38;5;241m=\u001b[39m\u001b[38;5;28;01mTrue\u001b[39;00m)\n\u001b[0;32m   1943\u001b[0m \u001b[38;5;28;01mexcept\u001b[39;00m \u001b[38;5;167;01mException\u001b[39;00m \u001b[38;5;28;01mas\u001b[39;00m err:\n",
      "File \u001b[1;32m~\\anaconda3\\Lib\\site-packages\\pandas\\core\\groupby\\ops.py:864\u001b[0m, in \u001b[0;36mBaseGrouper.agg_series\u001b[1;34m(self, obj, func, preserve_dtype)\u001b[0m\n\u001b[0;32m    862\u001b[0m     preserve_dtype \u001b[38;5;241m=\u001b[39m \u001b[38;5;28;01mTrue\u001b[39;00m\n\u001b[1;32m--> 864\u001b[0m result \u001b[38;5;241m=\u001b[39m \u001b[38;5;28mself\u001b[39m\u001b[38;5;241m.\u001b[39m_aggregate_series_pure_python(obj, func)\n\u001b[0;32m    866\u001b[0m npvalues \u001b[38;5;241m=\u001b[39m lib\u001b[38;5;241m.\u001b[39mmaybe_convert_objects(result, try_float\u001b[38;5;241m=\u001b[39m\u001b[38;5;28;01mFalse\u001b[39;00m)\n",
      "File \u001b[1;32m~\\anaconda3\\Lib\\site-packages\\pandas\\core\\groupby\\ops.py:885\u001b[0m, in \u001b[0;36mBaseGrouper._aggregate_series_pure_python\u001b[1;34m(self, obj, func)\u001b[0m\n\u001b[0;32m    884\u001b[0m \u001b[38;5;28;01mfor\u001b[39;00m i, group \u001b[38;5;129;01min\u001b[39;00m \u001b[38;5;28menumerate\u001b[39m(splitter):\n\u001b[1;32m--> 885\u001b[0m     res \u001b[38;5;241m=\u001b[39m func(group)\n\u001b[0;32m    886\u001b[0m     res \u001b[38;5;241m=\u001b[39m extract_result(res)\n",
      "File \u001b[1;32m~\\anaconda3\\Lib\\site-packages\\pandas\\core\\groupby\\groupby.py:2454\u001b[0m, in \u001b[0;36mGroupBy.mean.<locals>.<lambda>\u001b[1;34m(x)\u001b[0m\n\u001b[0;32m   2451\u001b[0m \u001b[38;5;28;01melse\u001b[39;00m:\n\u001b[0;32m   2452\u001b[0m     result \u001b[38;5;241m=\u001b[39m \u001b[38;5;28mself\u001b[39m\u001b[38;5;241m.\u001b[39m_cython_agg_general(\n\u001b[0;32m   2453\u001b[0m         \u001b[38;5;124m\"\u001b[39m\u001b[38;5;124mmean\u001b[39m\u001b[38;5;124m\"\u001b[39m,\n\u001b[1;32m-> 2454\u001b[0m         alt\u001b[38;5;241m=\u001b[39m\u001b[38;5;28;01mlambda\u001b[39;00m x: Series(x, copy\u001b[38;5;241m=\u001b[39m\u001b[38;5;28;01mFalse\u001b[39;00m)\u001b[38;5;241m.\u001b[39mmean(numeric_only\u001b[38;5;241m=\u001b[39mnumeric_only),\n\u001b[0;32m   2455\u001b[0m         numeric_only\u001b[38;5;241m=\u001b[39mnumeric_only,\n\u001b[0;32m   2456\u001b[0m     )\n\u001b[0;32m   2457\u001b[0m     \u001b[38;5;28;01mreturn\u001b[39;00m result\u001b[38;5;241m.\u001b[39m__finalize__(\u001b[38;5;28mself\u001b[39m\u001b[38;5;241m.\u001b[39mobj, method\u001b[38;5;241m=\u001b[39m\u001b[38;5;124m\"\u001b[39m\u001b[38;5;124mgroupby\u001b[39m\u001b[38;5;124m\"\u001b[39m)\n",
      "File \u001b[1;32m~\\anaconda3\\Lib\\site-packages\\pandas\\core\\series.py:6549\u001b[0m, in \u001b[0;36mSeries.mean\u001b[1;34m(self, axis, skipna, numeric_only, **kwargs)\u001b[0m\n\u001b[0;32m   6541\u001b[0m \u001b[38;5;129m@doc\u001b[39m(make_doc(\u001b[38;5;124m\"\u001b[39m\u001b[38;5;124mmean\u001b[39m\u001b[38;5;124m\"\u001b[39m, ndim\u001b[38;5;241m=\u001b[39m\u001b[38;5;241m1\u001b[39m))\n\u001b[0;32m   6542\u001b[0m \u001b[38;5;28;01mdef\u001b[39;00m \u001b[38;5;21mmean\u001b[39m(\n\u001b[0;32m   6543\u001b[0m     \u001b[38;5;28mself\u001b[39m,\n\u001b[1;32m   (...)\u001b[0m\n\u001b[0;32m   6547\u001b[0m     \u001b[38;5;241m*\u001b[39m\u001b[38;5;241m*\u001b[39mkwargs,\n\u001b[0;32m   6548\u001b[0m ):\n\u001b[1;32m-> 6549\u001b[0m     \u001b[38;5;28;01mreturn\u001b[39;00m NDFrame\u001b[38;5;241m.\u001b[39mmean(\u001b[38;5;28mself\u001b[39m, axis, skipna, numeric_only, \u001b[38;5;241m*\u001b[39m\u001b[38;5;241m*\u001b[39mkwargs)\n",
      "File \u001b[1;32m~\\anaconda3\\Lib\\site-packages\\pandas\\core\\generic.py:12420\u001b[0m, in \u001b[0;36mNDFrame.mean\u001b[1;34m(self, axis, skipna, numeric_only, **kwargs)\u001b[0m\n\u001b[0;32m  12413\u001b[0m \u001b[38;5;28;01mdef\u001b[39;00m \u001b[38;5;21mmean\u001b[39m(\n\u001b[0;32m  12414\u001b[0m     \u001b[38;5;28mself\u001b[39m,\n\u001b[0;32m  12415\u001b[0m     axis: Axis \u001b[38;5;241m|\u001b[39m \u001b[38;5;28;01mNone\u001b[39;00m \u001b[38;5;241m=\u001b[39m \u001b[38;5;241m0\u001b[39m,\n\u001b[1;32m   (...)\u001b[0m\n\u001b[0;32m  12418\u001b[0m     \u001b[38;5;241m*\u001b[39m\u001b[38;5;241m*\u001b[39mkwargs,\n\u001b[0;32m  12419\u001b[0m ) \u001b[38;5;241m-\u001b[39m\u001b[38;5;241m>\u001b[39m Series \u001b[38;5;241m|\u001b[39m \u001b[38;5;28mfloat\u001b[39m:\n\u001b[1;32m> 12420\u001b[0m     \u001b[38;5;28;01mreturn\u001b[39;00m \u001b[38;5;28mself\u001b[39m\u001b[38;5;241m.\u001b[39m_stat_function(\n\u001b[0;32m  12421\u001b[0m         \u001b[38;5;124m\"\u001b[39m\u001b[38;5;124mmean\u001b[39m\u001b[38;5;124m\"\u001b[39m, nanops\u001b[38;5;241m.\u001b[39mnanmean, axis, skipna, numeric_only, \u001b[38;5;241m*\u001b[39m\u001b[38;5;241m*\u001b[39mkwargs\n\u001b[0;32m  12422\u001b[0m     )\n",
      "File \u001b[1;32m~\\anaconda3\\Lib\\site-packages\\pandas\\core\\generic.py:12377\u001b[0m, in \u001b[0;36mNDFrame._stat_function\u001b[1;34m(self, name, func, axis, skipna, numeric_only, **kwargs)\u001b[0m\n\u001b[0;32m  12375\u001b[0m validate_bool_kwarg(skipna, \u001b[38;5;124m\"\u001b[39m\u001b[38;5;124mskipna\u001b[39m\u001b[38;5;124m\"\u001b[39m, none_allowed\u001b[38;5;241m=\u001b[39m\u001b[38;5;28;01mFalse\u001b[39;00m)\n\u001b[1;32m> 12377\u001b[0m \u001b[38;5;28;01mreturn\u001b[39;00m \u001b[38;5;28mself\u001b[39m\u001b[38;5;241m.\u001b[39m_reduce(\n\u001b[0;32m  12378\u001b[0m     func, name\u001b[38;5;241m=\u001b[39mname, axis\u001b[38;5;241m=\u001b[39maxis, skipna\u001b[38;5;241m=\u001b[39mskipna, numeric_only\u001b[38;5;241m=\u001b[39mnumeric_only\n\u001b[0;32m  12379\u001b[0m )\n",
      "File \u001b[1;32m~\\anaconda3\\Lib\\site-packages\\pandas\\core\\series.py:6457\u001b[0m, in \u001b[0;36mSeries._reduce\u001b[1;34m(self, op, name, axis, skipna, numeric_only, filter_type, **kwds)\u001b[0m\n\u001b[0;32m   6453\u001b[0m     \u001b[38;5;28;01mraise\u001b[39;00m \u001b[38;5;167;01mTypeError\u001b[39;00m(\n\u001b[0;32m   6454\u001b[0m         \u001b[38;5;124mf\u001b[39m\u001b[38;5;124m\"\u001b[39m\u001b[38;5;124mSeries.\u001b[39m\u001b[38;5;132;01m{\u001b[39;00mname\u001b[38;5;132;01m}\u001b[39;00m\u001b[38;5;124m does not allow \u001b[39m\u001b[38;5;132;01m{\u001b[39;00mkwd_name\u001b[38;5;132;01m}\u001b[39;00m\u001b[38;5;124m=\u001b[39m\u001b[38;5;132;01m{\u001b[39;00mnumeric_only\u001b[38;5;132;01m}\u001b[39;00m\u001b[38;5;124m \u001b[39m\u001b[38;5;124m\"\u001b[39m\n\u001b[0;32m   6455\u001b[0m         \u001b[38;5;124m\"\u001b[39m\u001b[38;5;124mwith non-numeric dtypes.\u001b[39m\u001b[38;5;124m\"\u001b[39m\n\u001b[0;32m   6456\u001b[0m     )\n\u001b[1;32m-> 6457\u001b[0m \u001b[38;5;28;01mreturn\u001b[39;00m op(delegate, skipna\u001b[38;5;241m=\u001b[39mskipna, \u001b[38;5;241m*\u001b[39m\u001b[38;5;241m*\u001b[39mkwds)\n",
      "File \u001b[1;32m~\\anaconda3\\Lib\\site-packages\\pandas\\core\\nanops.py:147\u001b[0m, in \u001b[0;36mbottleneck_switch.__call__.<locals>.f\u001b[1;34m(values, axis, skipna, **kwds)\u001b[0m\n\u001b[0;32m    146\u001b[0m \u001b[38;5;28;01melse\u001b[39;00m:\n\u001b[1;32m--> 147\u001b[0m     result \u001b[38;5;241m=\u001b[39m alt(values, axis\u001b[38;5;241m=\u001b[39maxis, skipna\u001b[38;5;241m=\u001b[39mskipna, \u001b[38;5;241m*\u001b[39m\u001b[38;5;241m*\u001b[39mkwds)\n\u001b[0;32m    149\u001b[0m \u001b[38;5;28;01mreturn\u001b[39;00m result\n",
      "File \u001b[1;32m~\\anaconda3\\Lib\\site-packages\\pandas\\core\\nanops.py:404\u001b[0m, in \u001b[0;36m_datetimelike_compat.<locals>.new_func\u001b[1;34m(values, axis, skipna, mask, **kwargs)\u001b[0m\n\u001b[0;32m    402\u001b[0m     mask \u001b[38;5;241m=\u001b[39m isna(values)\n\u001b[1;32m--> 404\u001b[0m result \u001b[38;5;241m=\u001b[39m func(values, axis\u001b[38;5;241m=\u001b[39maxis, skipna\u001b[38;5;241m=\u001b[39mskipna, mask\u001b[38;5;241m=\u001b[39mmask, \u001b[38;5;241m*\u001b[39m\u001b[38;5;241m*\u001b[39mkwargs)\n\u001b[0;32m    406\u001b[0m \u001b[38;5;28;01mif\u001b[39;00m datetimelike:\n",
      "File \u001b[1;32m~\\anaconda3\\Lib\\site-packages\\pandas\\core\\nanops.py:720\u001b[0m, in \u001b[0;36mnanmean\u001b[1;34m(values, axis, skipna, mask)\u001b[0m\n\u001b[0;32m    719\u001b[0m the_sum \u001b[38;5;241m=\u001b[39m values\u001b[38;5;241m.\u001b[39msum(axis, dtype\u001b[38;5;241m=\u001b[39mdtype_sum)\n\u001b[1;32m--> 720\u001b[0m the_sum \u001b[38;5;241m=\u001b[39m _ensure_numeric(the_sum)\n\u001b[0;32m    722\u001b[0m \u001b[38;5;28;01mif\u001b[39;00m axis \u001b[38;5;129;01mis\u001b[39;00m \u001b[38;5;129;01mnot\u001b[39;00m \u001b[38;5;28;01mNone\u001b[39;00m \u001b[38;5;129;01mand\u001b[39;00m \u001b[38;5;28mgetattr\u001b[39m(the_sum, \u001b[38;5;124m\"\u001b[39m\u001b[38;5;124mndim\u001b[39m\u001b[38;5;124m\"\u001b[39m, \u001b[38;5;28;01mFalse\u001b[39;00m):\n",
      "File \u001b[1;32m~\\anaconda3\\Lib\\site-packages\\pandas\\core\\nanops.py:1701\u001b[0m, in \u001b[0;36m_ensure_numeric\u001b[1;34m(x)\u001b[0m\n\u001b[0;32m   1699\u001b[0m \u001b[38;5;28;01mif\u001b[39;00m \u001b[38;5;28misinstance\u001b[39m(x, \u001b[38;5;28mstr\u001b[39m):\n\u001b[0;32m   1700\u001b[0m     \u001b[38;5;66;03m# GH#44008, GH#36703 avoid casting e.g. strings to numeric\u001b[39;00m\n\u001b[1;32m-> 1701\u001b[0m     \u001b[38;5;28;01mraise\u001b[39;00m \u001b[38;5;167;01mTypeError\u001b[39;00m(\u001b[38;5;124mf\u001b[39m\u001b[38;5;124m\"\u001b[39m\u001b[38;5;124mCould not convert string \u001b[39m\u001b[38;5;124m'\u001b[39m\u001b[38;5;132;01m{\u001b[39;00mx\u001b[38;5;132;01m}\u001b[39;00m\u001b[38;5;124m'\u001b[39m\u001b[38;5;124m to numeric\u001b[39m\u001b[38;5;124m\"\u001b[39m)\n\u001b[0;32m   1702\u001b[0m \u001b[38;5;28;01mtry\u001b[39;00m:\n",
      "\u001b[1;31mTypeError\u001b[0m: Could not convert string 'male' to numeric",
      "\nThe above exception was the direct cause of the following exception:\n",
      "\u001b[1;31mTypeError\u001b[0m                                 Traceback (most recent call last)",
      "Cell \u001b[1;32mIn[26], line 2\u001b[0m\n\u001b[0;32m      1\u001b[0m df\u001b[38;5;241m=\u001b[39mpd\u001b[38;5;241m.\u001b[39mread_csv(\u001b[38;5;124m'\u001b[39m\u001b[38;5;124mmedical_cost.csv\u001b[39m\u001b[38;5;124m'\u001b[39m)\n\u001b[1;32m----> 2\u001b[0m df\u001b[38;5;241m.\u001b[39mgroupby(\u001b[38;5;124m'\u001b[39m\u001b[38;5;124mbmi\u001b[39m\u001b[38;5;124m'\u001b[39m)\u001b[38;5;241m.\u001b[39mmean()\n",
      "File \u001b[1;32m~\\anaconda3\\Lib\\site-packages\\pandas\\core\\groupby\\groupby.py:2452\u001b[0m, in \u001b[0;36mGroupBy.mean\u001b[1;34m(self, numeric_only, engine, engine_kwargs)\u001b[0m\n\u001b[0;32m   2445\u001b[0m     \u001b[38;5;28;01mreturn\u001b[39;00m \u001b[38;5;28mself\u001b[39m\u001b[38;5;241m.\u001b[39m_numba_agg_general(\n\u001b[0;32m   2446\u001b[0m         grouped_mean,\n\u001b[0;32m   2447\u001b[0m         executor\u001b[38;5;241m.\u001b[39mfloat_dtype_mapping,\n\u001b[0;32m   2448\u001b[0m         engine_kwargs,\n\u001b[0;32m   2449\u001b[0m         min_periods\u001b[38;5;241m=\u001b[39m\u001b[38;5;241m0\u001b[39m,\n\u001b[0;32m   2450\u001b[0m     )\n\u001b[0;32m   2451\u001b[0m \u001b[38;5;28;01melse\u001b[39;00m:\n\u001b[1;32m-> 2452\u001b[0m     result \u001b[38;5;241m=\u001b[39m \u001b[38;5;28mself\u001b[39m\u001b[38;5;241m.\u001b[39m_cython_agg_general(\n\u001b[0;32m   2453\u001b[0m         \u001b[38;5;124m\"\u001b[39m\u001b[38;5;124mmean\u001b[39m\u001b[38;5;124m\"\u001b[39m,\n\u001b[0;32m   2454\u001b[0m         alt\u001b[38;5;241m=\u001b[39m\u001b[38;5;28;01mlambda\u001b[39;00m x: Series(x, copy\u001b[38;5;241m=\u001b[39m\u001b[38;5;28;01mFalse\u001b[39;00m)\u001b[38;5;241m.\u001b[39mmean(numeric_only\u001b[38;5;241m=\u001b[39mnumeric_only),\n\u001b[0;32m   2455\u001b[0m         numeric_only\u001b[38;5;241m=\u001b[39mnumeric_only,\n\u001b[0;32m   2456\u001b[0m     )\n\u001b[0;32m   2457\u001b[0m     \u001b[38;5;28;01mreturn\u001b[39;00m result\u001b[38;5;241m.\u001b[39m__finalize__(\u001b[38;5;28mself\u001b[39m\u001b[38;5;241m.\u001b[39mobj, method\u001b[38;5;241m=\u001b[39m\u001b[38;5;124m\"\u001b[39m\u001b[38;5;124mgroupby\u001b[39m\u001b[38;5;124m\"\u001b[39m)\n",
      "File \u001b[1;32m~\\anaconda3\\Lib\\site-packages\\pandas\\core\\groupby\\groupby.py:1998\u001b[0m, in \u001b[0;36mGroupBy._cython_agg_general\u001b[1;34m(self, how, alt, numeric_only, min_count, **kwargs)\u001b[0m\n\u001b[0;32m   1995\u001b[0m     result \u001b[38;5;241m=\u001b[39m \u001b[38;5;28mself\u001b[39m\u001b[38;5;241m.\u001b[39m_agg_py_fallback(how, values, ndim\u001b[38;5;241m=\u001b[39mdata\u001b[38;5;241m.\u001b[39mndim, alt\u001b[38;5;241m=\u001b[39malt)\n\u001b[0;32m   1996\u001b[0m     \u001b[38;5;28;01mreturn\u001b[39;00m result\n\u001b[1;32m-> 1998\u001b[0m new_mgr \u001b[38;5;241m=\u001b[39m data\u001b[38;5;241m.\u001b[39mgrouped_reduce(array_func)\n\u001b[0;32m   1999\u001b[0m res \u001b[38;5;241m=\u001b[39m \u001b[38;5;28mself\u001b[39m\u001b[38;5;241m.\u001b[39m_wrap_agged_manager(new_mgr)\n\u001b[0;32m   2000\u001b[0m \u001b[38;5;28;01mif\u001b[39;00m how \u001b[38;5;129;01min\u001b[39;00m [\u001b[38;5;124m\"\u001b[39m\u001b[38;5;124midxmin\u001b[39m\u001b[38;5;124m\"\u001b[39m, \u001b[38;5;124m\"\u001b[39m\u001b[38;5;124midxmax\u001b[39m\u001b[38;5;124m\"\u001b[39m]:\n",
      "File \u001b[1;32m~\\anaconda3\\Lib\\site-packages\\pandas\\core\\internals\\managers.py:1469\u001b[0m, in \u001b[0;36mBlockManager.grouped_reduce\u001b[1;34m(self, func)\u001b[0m\n\u001b[0;32m   1465\u001b[0m \u001b[38;5;28;01mif\u001b[39;00m blk\u001b[38;5;241m.\u001b[39mis_object:\n\u001b[0;32m   1466\u001b[0m     \u001b[38;5;66;03m# split on object-dtype blocks bc some columns may raise\u001b[39;00m\n\u001b[0;32m   1467\u001b[0m     \u001b[38;5;66;03m#  while others do not.\u001b[39;00m\n\u001b[0;32m   1468\u001b[0m     \u001b[38;5;28;01mfor\u001b[39;00m sb \u001b[38;5;129;01min\u001b[39;00m blk\u001b[38;5;241m.\u001b[39m_split():\n\u001b[1;32m-> 1469\u001b[0m         applied \u001b[38;5;241m=\u001b[39m sb\u001b[38;5;241m.\u001b[39mapply(func)\n\u001b[0;32m   1470\u001b[0m         result_blocks \u001b[38;5;241m=\u001b[39m extend_blocks(applied, result_blocks)\n\u001b[0;32m   1471\u001b[0m \u001b[38;5;28;01melse\u001b[39;00m:\n",
      "File \u001b[1;32m~\\anaconda3\\Lib\\site-packages\\pandas\\core\\internals\\blocks.py:393\u001b[0m, in \u001b[0;36mBlock.apply\u001b[1;34m(self, func, **kwargs)\u001b[0m\n\u001b[0;32m    387\u001b[0m \u001b[38;5;129m@final\u001b[39m\n\u001b[0;32m    388\u001b[0m \u001b[38;5;28;01mdef\u001b[39;00m \u001b[38;5;21mapply\u001b[39m(\u001b[38;5;28mself\u001b[39m, func, \u001b[38;5;241m*\u001b[39m\u001b[38;5;241m*\u001b[39mkwargs) \u001b[38;5;241m-\u001b[39m\u001b[38;5;241m>\u001b[39m \u001b[38;5;28mlist\u001b[39m[Block]:\n\u001b[0;32m    389\u001b[0m \u001b[38;5;250m    \u001b[39m\u001b[38;5;124;03m\"\"\"\u001b[39;00m\n\u001b[0;32m    390\u001b[0m \u001b[38;5;124;03m    apply the function to my values; return a block if we are not\u001b[39;00m\n\u001b[0;32m    391\u001b[0m \u001b[38;5;124;03m    one\u001b[39;00m\n\u001b[0;32m    392\u001b[0m \u001b[38;5;124;03m    \"\"\"\u001b[39;00m\n\u001b[1;32m--> 393\u001b[0m     result \u001b[38;5;241m=\u001b[39m func(\u001b[38;5;28mself\u001b[39m\u001b[38;5;241m.\u001b[39mvalues, \u001b[38;5;241m*\u001b[39m\u001b[38;5;241m*\u001b[39mkwargs)\n\u001b[0;32m    395\u001b[0m     result \u001b[38;5;241m=\u001b[39m maybe_coerce_values(result)\n\u001b[0;32m    396\u001b[0m     \u001b[38;5;28;01mreturn\u001b[39;00m \u001b[38;5;28mself\u001b[39m\u001b[38;5;241m.\u001b[39m_split_op_result(result)\n",
      "File \u001b[1;32m~\\anaconda3\\Lib\\site-packages\\pandas\\core\\groupby\\groupby.py:1995\u001b[0m, in \u001b[0;36mGroupBy._cython_agg_general.<locals>.array_func\u001b[1;34m(values)\u001b[0m\n\u001b[0;32m   1992\u001b[0m     \u001b[38;5;28;01mreturn\u001b[39;00m result\n\u001b[0;32m   1994\u001b[0m \u001b[38;5;28;01massert\u001b[39;00m alt \u001b[38;5;129;01mis\u001b[39;00m \u001b[38;5;129;01mnot\u001b[39;00m \u001b[38;5;28;01mNone\u001b[39;00m\n\u001b[1;32m-> 1995\u001b[0m result \u001b[38;5;241m=\u001b[39m \u001b[38;5;28mself\u001b[39m\u001b[38;5;241m.\u001b[39m_agg_py_fallback(how, values, ndim\u001b[38;5;241m=\u001b[39mdata\u001b[38;5;241m.\u001b[39mndim, alt\u001b[38;5;241m=\u001b[39malt)\n\u001b[0;32m   1996\u001b[0m \u001b[38;5;28;01mreturn\u001b[39;00m result\n",
      "File \u001b[1;32m~\\anaconda3\\Lib\\site-packages\\pandas\\core\\groupby\\groupby.py:1946\u001b[0m, in \u001b[0;36mGroupBy._agg_py_fallback\u001b[1;34m(self, how, values, ndim, alt)\u001b[0m\n\u001b[0;32m   1944\u001b[0m     msg \u001b[38;5;241m=\u001b[39m \u001b[38;5;124mf\u001b[39m\u001b[38;5;124m\"\u001b[39m\u001b[38;5;124magg function failed [how->\u001b[39m\u001b[38;5;132;01m{\u001b[39;00mhow\u001b[38;5;132;01m}\u001b[39;00m\u001b[38;5;124m,dtype->\u001b[39m\u001b[38;5;132;01m{\u001b[39;00mser\u001b[38;5;241m.\u001b[39mdtype\u001b[38;5;132;01m}\u001b[39;00m\u001b[38;5;124m]\u001b[39m\u001b[38;5;124m\"\u001b[39m\n\u001b[0;32m   1945\u001b[0m     \u001b[38;5;66;03m# preserve the kind of exception that raised\u001b[39;00m\n\u001b[1;32m-> 1946\u001b[0m     \u001b[38;5;28;01mraise\u001b[39;00m \u001b[38;5;28mtype\u001b[39m(err)(msg) \u001b[38;5;28;01mfrom\u001b[39;00m \u001b[38;5;21;01merr\u001b[39;00m\n\u001b[0;32m   1948\u001b[0m \u001b[38;5;28;01mif\u001b[39;00m ser\u001b[38;5;241m.\u001b[39mdtype \u001b[38;5;241m==\u001b[39m \u001b[38;5;28mobject\u001b[39m:\n\u001b[0;32m   1949\u001b[0m     res_values \u001b[38;5;241m=\u001b[39m res_values\u001b[38;5;241m.\u001b[39mastype(\u001b[38;5;28mobject\u001b[39m, copy\u001b[38;5;241m=\u001b[39m\u001b[38;5;28;01mFalse\u001b[39;00m)\n",
      "\u001b[1;31mTypeError\u001b[0m: agg function failed [how->mean,dtype->object]"
     ]
    }
   ],
   "source": [
    "df=pd.read_csv('medical_cost.csv')\n",
    "df.groupby('bmi').mean()"
   ]
  },
  {
   "cell_type": "markdown",
   "id": "e09ab157-0747-4781-9da9-b893d372a7a3",
   "metadata": {},
   "source": [
    "Interprétation de l'erreur :\n",
    "\n",
    "Vous avez essayé de grouper votre DataFrame df par la colonne 'bmi' et de calculer la moyenne (.mean()) de toutes les autres colonnes pour chaque groupe de 'bmi'.\n",
    "L'erreur affichée est un TypeError (Erreur de type).\n",
    "Le message agg function failed [how->mean, dtype->object] est très explicite : l'opération d'agrégation (mean = moyenne) a échoué car elle a rencontré une (ou plusieurs) colonne(s) ayant le type de données object.\n",
    "En pandas, le type object est souvent utilisé pour les colonnes qui contiennent des chaînes de caractères (texte), des types de données mixtes, ou des structures complexes.\n",
    "L'opération de calcul de la moyenne (mean()) n'est mathématiquement définie que pour les colonnes numériques (nombres entiers, nombres décimaux). Elle ne peut pas être appliquée à du texte ou à d'autres types non numériques.\n",
    "L'erreur se produit donc parce que, lorsque vous appelez .mean() après un groupby() sans spécifier de colonne(s) pour l'agrégation (df.groupby('bmi').mean()), pandas essaie par défaut de calculer la moyenne pour toutes les colonnes du DataFrame pour lesquelles la moyenne a un sens. Si certaines de vos colonnes sont de type object (texte comme 'sex', 'smoker', 'region', etc.) et que vous n'avez pas sélectionné explicitement de colonnes numériques avant d'appeler .mean(), l'opération échoue lorsqu'elle rencontre ces colonnes non numériques.\n",
    "\n",
    "Solution :\n",
    "\n",
    "La solution consiste à indiquer explicitement à pandas sur quelle(s) colonne(s) numériques vous souhaitez calculer la moyenne après avoir effectué le regroupement.\n",
    "\n",
    "Au lieu de calculer la moyenne sur toutes les colonnes par défaut, sélectionnez les colonnes numériques pour lesquelles vous voulez la moyenne.\n",
    "\n",
    "Si, par exemple, vous voulez calculer la moyenne des charges pour chaque valeur de bmi, vous devez modifier la ligne comme suit :"
   ]
  },
  {
   "cell_type": "code",
   "execution_count": 27,
   "id": "e4757c5e-fac2-412e-b963-aa52f424437c",
   "metadata": {},
   "outputs": [
    {
     "data": {
      "text/plain": [
       "bmi\n",
       "15.960     1694.796400\n",
       "16.815     4904.000350\n",
       "17.195    14455.644050\n",
       "17.290     7813.353433\n",
       "17.385     2775.192150\n",
       "              ...     \n",
       "48.070     9432.925300\n",
       "49.060    11381.325400\n",
       "50.380     2438.055200\n",
       "52.580    44501.398200\n",
       "53.130     1163.462700\n",
       "Name: charges, Length: 548, dtype: float64"
      ]
     },
     "execution_count": 27,
     "metadata": {},
     "output_type": "execute_result"
    }
   ],
   "source": [
    "df=pd.read_csv('medical_cost.csv')\n",
    "df.groupby('bmi')['charges'].mean()"
   ]
  },
  {
   "cell_type": "code",
   "execution_count": null,
   "id": "503f8094-5b8c-45fe-b799-8a488fe273fe",
   "metadata": {},
   "outputs": [],
   "source": [
    "import pandas as pd\n",
    "\n",
    "# Exemple de données de ventes\n",
    "data = {'Produit': ['A', 'B', 'A', 'C', 'B', 'A', 'C', 'B'],\n",
    "        'Région': ['Nord', 'Sud', 'Nord', 'Est', 'Sud', 'Est', 'Nord', 'Est'],\n",
    "        'Ventes': [100, 150, 120, 80, 200, 110, 90, 180],\n",
    "        'Quantité': [10, 15, 12, 8, 20, 11, 9, 18]}\n",
    "\n",
    "df = pd.DataFrame(data)\n",
    "df"
   ]
  },
  {
   "cell_type": "code",
   "execution_count": null,
   "id": "ddeab974-a4c3-4645-a347-d021e5b04f82",
   "metadata": {},
   "outputs": [],
   "source": [
    "#Somme des ventes par produit\n",
    "\n",
    "# Grouper par la colonne 'Produit' et calculer la somme des 'Ventes'\n",
    "ventes_par_produit = df.groupby('Produit')['Ventes'].sum()\n",
    "ventes_par_produit\n",
    "\n",
    "Le_sexe_influence_t_il_les_charges=df.groupy('charges')['sex'].mean() "
   ]
  },
  {
   "cell_type": "code",
   "execution_count": null,
   "id": "2253a18e-ac8b-477f-af7b-afa072bd875c",
   "metadata": {},
   "outputs": [],
   "source": [
    "# Calculer plusieurs agrégations (somme et moyenne) par produit\n",
    "# Grouper par 'Produit' et calculer somme ET moyenne des 'Ventes'\n",
    "ventes_stats_par_produit = df.groupby('Produit')['Ventes'].agg(['sum', 'mean', 'count'])\n",
    "ventes_stats_par_produit"
   ]
  },
  {
   "cell_type": "code",
   "execution_count": null,
   "id": "df9e0aca-0a89-4261-8164-e31e02b14de3",
   "metadata": {},
   "outputs": [],
   "source": [
    "import pandas as pd\n",
    "\n",
    "# Exemple de données de ventes\n",
    "data = {'Produit': ['A', 'B', 'A', 'C', 'B', 'A', 'C', 'B'],\n",
    "        'Région': ['Nord', 'Sud', 'Nord', 'Est', 'Sud', 'Est', 'Nord', 'Est'],\n",
    "        'Ventes': [100, 150, 120, 80, 200, 110, 90, 180],\n",
    "        'Quantité': [10, 15, 12, 8, 20, 11, 9, 18]}\n",
    "\n",
    "df = pd.DataFrame(data)\n",
    "df\n",
    "ventes_stats_par_produit_quantite = df.groupby(['Produit','Quantité'])['Ventes'].agg(['sum', 'mean', 'count'])\n",
    "ventes_stats_par_produit_quantite"
   ]
  },
  {
   "cell_type": "code",
   "execution_count": null,
   "id": "403e521f-3a30-40b7-af81-d25c46867697",
   "metadata": {},
   "outputs": [],
   "source": [
    "import pandas as pd\n",
    "import numpy as np \n",
    "import matplotlib.pyplot as plt"
   ]
  },
  {
   "cell_type": "markdown",
   "id": "a0c936b8-a001-4245-8098-de35ac2fe5b4",
   "metadata": {},
   "source": [
    "pour dessiner les graphes on utilise la methode \n",
    "plt.plot() comme arguments on peut mettre les axes\n",
    "plt.show()\n",
    "\n",
    "pour placer un titre en haut de son  graphique on peut ajouter la methode plt.title()\n",
    "avec comme argument le titre "
   ]
  },
  {
   "cell_type": "markdown",
   "id": "92b092de-ab2d-4c84-ac68-400c08670263",
   "metadata": {},
   "source": [
    "plt.figure() offre un espace blanc vierge en attente d'un ensemble d'axes pour le tracage\n",
    "plt.figure(figsize=(10,10)) permet de personnalise la taille de l'espace blanche de la figure a 10pouces/10pouces\n",
    "\n",
    "comment ajouter d'axes\n",
    "fig= plt.figure()\n",
    "axes=fig.add_axes()"
   ]
  },
  {
   "cell_type": "code",
   "execution_count": null,
   "id": "f2b8f11c-1dce-4741-94b2-42805b477479",
   "metadata": {},
   "outputs": [],
   "source": [
    "plt.figure()\n",
    "plt.show()"
   ]
  },
  {
   "cell_type": "code",
   "execution_count": null,
   "id": "82b3b432-5292-491d-9280-3c0fa5f00f4c",
   "metadata": {},
   "outputs": [],
   "source": [
    "a=np.linspace(0,10,11) #permet d'obtenir 11 des points uniformements espacees entre 0 et 10\n",
    "b=a**4\n",
    "a"
   ]
  },
  {
   "cell_type": "code",
   "execution_count": null,
   "id": "3f9419db-8820-432e-880c-4784a9c91b9e",
   "metadata": {},
   "outputs": [],
   "source": [
    "b"
   ]
  },
  {
   "cell_type": "code",
   "execution_count": null,
   "id": "00cc7be1-9caf-4df7-b858-283eb06ad4ca",
   "metadata": {},
   "outputs": [],
   "source": [
    "x=np.arange(0,10)# permet d'obtenir des points uniformement espaces de 0 à 9"
   ]
  },
  {
   "cell_type": "code",
   "execution_count": null,
   "id": "0c02da20-0676-4d1a-902e-755682f2d695",
   "metadata": {},
   "outputs": [],
   "source": [
    "y=2*x"
   ]
  },
  {
   "cell_type": "code",
   "execution_count": null,
   "id": "d69aa3f2-ce16-4b0f-8392-73152ebf7fc8",
   "metadata": {},
   "outputs": [],
   "source": [
    "x"
   ]
  },
  {
   "cell_type": "code",
   "execution_count": null,
   "id": "40ae979e-210e-46e4-a51e-8bd82002ea9d",
   "metadata": {},
   "outputs": [],
   "source": [
    "y"
   ]
  },
  {
   "cell_type": "code",
   "execution_count": null,
   "id": "09896c21-ac29-4c98-a9ad-018cd7c9b095",
   "metadata": {},
   "outputs": [],
   "source": [
    "fig= plt.figure()\n",
    "\n",
    "axes1=fig.add_axes([0,0,1,1])\n",
    "axes1.plot(a,b)\n",
    "axes1.set_xlim(0,8)# permettant de limiter l'axe x \n",
    "axes1.set_ylim(0,8000)# permettant de limiter l'axe y\n",
    "axes1.set_xlabel('a') #pour noter un label (ou etiquette ) sur l'axe x\n",
    "axes1.set_ylabel('b') #pour noter un label (ou etiquette ) sur l'axe y\n",
    "axes1.set_title('puissance 4') #pour ajouter un titre \n",
    "\n",
    "axes2=fig.add_axes([0.5,0.5,0.25,0.25])\n",
    "axes2.plot(a,b)\n",
    "axes2.set_xlim(1,2)# permettant de limiter l'axe x \n",
    "axes2.set_ylim(0,50)# permettant de limiter l'axe y\n",
    "axes2.set_xlabel('A') #pour noter un label (ou etiquette ) sur l'axe x\n",
    "axes2.set_ylabel('B') #pour noter un label (ou etiquette ) sur l'axe y\n",
    "axes2.set_title('Zoom en avant') #pour ajouter un titre \n",
    "\n",
    "plt.show()"
   ]
  },
  {
   "cell_type": "markdown",
   "id": "44aa10a8-f5d9-46ab-addf-9e9c663ee789",
   "metadata": {},
   "source": [
    "'nom_figure_graphe'.savefig('nom_image_.(type_image:exemple type png))"
   ]
  },
  {
   "cell_type": "code",
   "execution_count": null,
   "id": "22e1feb3-9225-4014-8e35-6eee6df9e0cf",
   "metadata": {},
   "outputs": [],
   "source": [
    "fig.savefig('new_figure.png')"
   ]
  },
  {
   "cell_type": "raw",
   "id": "6b4d38fa",
   "metadata": {},
   "source": [
    "Mettre une legende sur un grape"
   ]
  },
  {
   "cell_type": "code",
   "execution_count": null,
   "id": "1668ba27",
   "metadata": {},
   "outputs": [],
   "source": [
    "import pandas as pd\n",
    "import numpy as np \n",
    "import matplotlib.pyplot as plt\n",
    "fig=plt.figure()\n",
    "fig\n",
    "plt.show"
   ]
  },
  {
   "cell_type": "code",
   "execution_count": null,
   "id": "1251e49d",
   "metadata": {},
   "outputs": [],
   "source": [
    "import matplotlib.pyplot as plt\n",
    "import numpy as np\n",
    "\n",
    "# Define x with a range of values\n",
    "# Définir x avec une plage de valeurs\n",
    "x = np.linspace(0, 10, 100) # Crée 100 points également espacés entre 0 et 10\n",
    "\n",
    "# Create a figure and an axes object\n",
    "# Crée un objet figure et un objet axes\n",
    "fig = plt.figure()\n",
    "axes = fig.add_axes([0, 0, 1, 1]) # Crée des axes qui remplissent toute la zone de la figure\n",
    "\n",
    "# Plot the data without the 'label' argument\n",
    "# Tracer les données sans l'argument 'label'\n",
    "axes.plot(x, x)     # Trace y = x\n",
    "axes.plot(x, x**2)  # Trace y = x^2\n",
    "\n",
    "\n",
    "# Show the plot\n",
    "# Afficher le graphique\n",
    "plt.show()\n"
   ]
  },
  {
   "cell_type": "code",
   "execution_count": 20,
   "id": "c65669f3",
   "metadata": {},
   "outputs": [
    {
     "data": {
      "image/png": "[encoded data removed]",
      "text/plain": [
       "<Figure size 640x480 with 1 Axes>"
      ]
     },
     "metadata": {},
     "output_type": "display_data"
    }
   ],
   "source": [
    "import matplotlib.pyplot as plt\n",
    "import numpy as np\n",
    "\n",
    "# Define x with a range of values\n",
    "# Définir x avec une plage de valeurs\n",
    "x = np.linspace(0, 10, 100) # Crée 100 points également espacés entre 0 et 10\n",
    "\n",
    "# Create a figure and an axes object\n",
    "# Crée un objet figure et un objet axes\n",
    "fig = plt.figure()\n",
    "axes = fig.add_axes([0, 0, 1, 1]) # Crée des axes qui remplissent toute la zone de la figure\n",
    "\n",
    "axes.plot(x, x,label='x vs. x') \n",
    "axes.legend()\n",
    "# Trace y = x\n",
    "#donne la legende du graphe x par x\n",
    "\n",
    "axes.plot(x, x**2,label='x vs. x**2') \n",
    "axes.legend()\n",
    "# Trace y = x^2\n",
    "#donne la legende du graphe x par x**2\n",
    "\n",
    "# Show the plot\n",
    "# Afficher le graphique\n",
    "plt.show()\n"
   ]
  },
  {
   "cell_type": "code",
   "execution_count": 19,
   "id": "e2215961",
   "metadata": {},
   "outputs": [
    {
     "data": {
      "image/png": "[encoded data removed]",
      "text/plain": [
       "<Figure size 640x480 with 1 Axes>"
      ]
     },
     "metadata": {},
     "output_type": "display_data"
    }
   ],
   "source": [
    "import matplotlib.pyplot as plt\n",
    "import numpy as np\n",
    "\n",
    "# Define x with a range of values\n",
    "# Définir x avec une plage de valeurs\n",
    "x = np.linspace(0, 10, 100) # Crée 100 points également espacés entre 0 et 10\n",
    "\n",
    "# Create a figure and an axes object\n",
    "# Crée un objet figure et un objet axes\n",
    "fig = plt.figure()\n",
    "axes = fig.add_axes([0,0,1,1]) # Crée des axes qui remplissent toute la zone de la figure\n",
    "\n",
    "axes.plot(x, x,label='x vs. x') \n",
    "axes.plot(x, x**2,label='x vs. x**2') \n",
    "axes.legend(loc='best')\n",
    "# Trace y = x^2\n",
    "#donne la legende du graphe x par x**2\n",
    "\n",
    "# Show the plot\n",
    "# Afficher le graphique\n",
    "plt.show()"
   ]
  },
  {
   "cell_type": "code",
   "execution_count": 18,
   "id": "a1073d99",
   "metadata": {},
   "outputs": [
    {
     "data": {
      "image/png": "[encoded data removed]",
      "text/plain": [
       "<Figure size 640x480 with 1 Axes>"
      ]
     },
     "metadata": {},
     "output_type": "display_data"
    }
   ],
   "source": [
    "import matplotlib.pyplot as plt\n",
    "import numpy as np\n",
    "\n",
    "# Define x with a range of values\n",
    "# Définir x avec une plage de valeurs\n",
    "x = np.linspace(0, 10, 100) # Crée 100 points également espacés entre 0 et 10\n",
    "\n",
    "# Create a figure and an axes object\n",
    "# Crée un objet figure et un objet axes\n",
    "fig = plt.figure()\n",
    "axes = fig.add_axes([0,0,1,1]) # Crée des axes qui remplissent toute la zone de la figure\n",
    "\n",
    "axes.plot(x, x,label='x vs. x',color='yellow',lw=5,ls='--') \n",
    "axes.plot(x, x**2,label='x vs. x**2',color='red',lw=10,ls='-.') \n",
    "axes.legend(loc='best')\n",
    "# Trace y = x^2\n",
    "#donne la legende du graphe x par x**2\n",
    "#color permet de specifier la couleur des lignes \n",
    "#lw permet de specifier la largeur des lignes\n",
    "#ls permet de specifier le type de liigne \n",
    "\n",
    "# Show the plot\n",
    "# Afficher le graphique\n",
    "plt.show()"
   ]
  },
  {
   "cell_type": "code",
   "execution_count": null,
   "id": "d1703099",
   "metadata": {},
   "outputs": [],
   "source": []
  },
  {
   "cell_type": "markdown",
   "id": "035bf987",
   "metadata": {},
   "source": [
    "cdiagrammes de dispersion montrent la relation entre deux features\n",
    "(ou caractéristiques)continues\n",
    "on l'utilise souvent pour faire une visualisation sur le rapport entre 2 variables (x,y)"
   ]
  },
  {
   "cell_type": "code",
   "execution_count": 17,
   "id": "03b52ae9",
   "metadata": {},
   "outputs": [
    {
     "data": {
      "image/png": "[encoded data removed]",
      "text/plain": [
       "<Figure size 640x480 with 1 Axes>"
      ]
     },
     "metadata": {},
     "output_type": "display_data"
    }
   ],
   "source": [
    "import pandas as pd\n",
    "import numpy as np\n",
    "import matplotlib.pyplot as plt\n",
    "import seaborn as sns\n",
    "\n",
    "df=pd.read_csv('medical_cost.csv')\n",
    "diagramme=sns.scatterplot(x='age',y='charges',data=df,hue='age')\n",
    "#hue permet de creer une legende automatiquement en fonction de la categorie age\n",
    "diagramme\n",
    "plt.show()"
   ]
  },
  {
   "cell_type": "markdown",
   "id": "ab94e219-9742-4be8-9c98-ed3bf56dd497",
   "metadata": {},
   "source": [
    "diagramme de distribution:\n",
    "il y'a 3 principaux types de diagramme de disposition qui se complete les 1 les autres\n",
    "* dgramme rug(rugplot) utlise seulement les donnees celon l'axe des x uniquement\n",
    "\n",
    "* histogrammme\n",
    "\n",
    "*                                                                                                                                                                                                                                                                                          drdiagramme KDE (kdeplot)\n"
   ]
  },
  {
   "cell_type": "code",
   "execution_count": 7,
   "id": "da2fd9d8-8e30-489b-a762-556fdf307cbd",
   "metadata": {},
   "outputs": [
    {
     "data": {
      "image/png": "[encoded data removed]",
      "text/plain": [
       "<Figure size 500x500 with 1 Axes>"
      ]
     },
     "metadata": {},
     "output_type": "display_data"
    }
   ],
   "source": [
    "import pandas as pd\n",
    "import numpy as np\n",
    "import matplotlib.pyplot as plt\n",
    "import seaborn as sns\n",
    "\n",
    "df=pd.read_csv('medical_cost.csv')\n",
    "sns.set(style='darkgrid')\n",
    "\n",
    "#sns.set() est une fonction de la bibliothèque Python seaborn. \n",
    "#Elle est utilisée pour configurer le style esthétique des graphiques créés avec seaborn (et matplotlib, que seaborn utilise en arrière-plan).\n",
    "#En bref, sns.set() applique un ensemble de paramètres par défaut pour rendre les graphiques plus jolis et plus lisibles, en modifiant par exemple le fond, la grille, la taille des éléments, etc. C'est souvent la première ligne de code utilisée après l'importation de seaborn pour améliorer l'apparence des visualisations qui suivront\n",
    "\n",
    "diagramme=sns.displot(x='age',data=df,bins=10)\n",
    "diagramme\n",
    "plt.show()"
   ]
  },
  {
   "cell_type": "markdown",
   "id": "e2b335b1-24d9-4579-a241-815113d440c1",
   "metadata": {},
   "source": [
    "Ce graphique montre la répartition des âges.\n",
    "\n",
    "Il y a un pic important chez les plus jeunes (autour de 20 ans). Les autres âges sont présents, mais moins nombreux que les plus jeunes dans cet ensemble de données."
   ]
  },
  {
   "cell_type": "code",
   "execution_count": 9,
   "id": "885c909c-076c-416f-a689-2344438965e8",
   "metadata": {},
   "outputs": [
    {
     "data": {
      "image/png": "[encoded data removed]",
      "text/plain": [
       "<Figure size 500x500 with 1 Axes>"
      ]
     },
     "metadata": {},
     "output_type": "display_data"
    }
   ],
   "source": [
    "import pandas as pd\n",
    "import numpy as np\n",
    "import matplotlib.pyplot as plt\n",
    "import seaborn as sns\n",
    "\n",
    "df=pd.read_csv('medical_cost.csv')\n",
    "sns.set(style='darkgrid')\n",
    "diagramme=sns.displot(x='age',data=df,bins=10,color='red',edgecolor='blue')\n",
    "#colors permet de donner la couleur du diagramme\n",
    "#edgecolors permet de donner la couleur des bord de bande\n",
    "diagramme\n",
    "plt.show()"
   ]
  },
  {
   "cell_type": "markdown",
   "id": "a0ac7db4-3cb3-4ee7-8d6a-01aefba31fb7",
   "metadata": {},
   "source": [
    "4. **Quelle est la répartition des charges médicales ? (histogramme + boîte à moustaches)**"
   ]
  },
  {
   "cell_type": "markdown",
   "id": "556a9fc5-24ee-45ed-bd72-7cea3904514d",
   "metadata": {},
   "source": [
    "Cours sur le Diagramme en Boîte (Boîte à Moustaches)\n",
    "\n",
    "Introduction\n",
    "\n",
    "Le diagramme en boîte, ou boîte à moustaches (box plot en anglais), est un graphique statistique qui offre une visualisation rapide de la distribution d'un ensemble de données numériques. Il est excellent pour montrer la tendance centrale, la dispersion et l'asymétrie des données, ainsi que pour identifier les valeurs potentiellement aberrantes. Il est particulièrement efficace pour comparer les distributions de plusieurs groupes.\n",
    "\n",
    "Les Éléments Clés d'une Boîte à Moustaches\n",
    "\n",
    "Une boîte à moustaches standard est construite autour des quartiles et de la médiane d'un ensemble de données :\n",
    "\n",
    "La Boîte :\n",
    "\n",
    "Elle s'étend du premier quartile (Q1) au troisième quartile (Q3). Q1 est la valeur en dessous de laquelle se trouvent 25% des données, et Q3 est la valeur en dessous de laquelle se trouvent 75% des données.\n",
    "La longueur de la boîte est l'écart interquartile (IQR), calculé comme IQR=Q3−Q1. L'IQR représente l'étendue des 50% du milieu des données.\n",
    "La Ligne Médiane :\n",
    "\n",
    "Une ligne horizontale à l'intérieur de la boîte représente la médiane (ou deuxième quartile, Q2). C'est la valeur centrale qui divise les données en deux moitiés égales.\n",
    "Les Moustaches :\n",
    "\n",
    "Ces lignes (ou \"moustaches\") s'étendent de la boîte vers le haut et vers le bas.\n",
    "Elles s'étendent généralement jusqu'à la dernière donnée qui n'est pas plus de 1.5 fois l'IQR loin du bord de la boîte. La moustache inférieure va jusqu'à la plus petite valeur supérieure à Q1−1.5×IQR, et la moustache supérieure va jusqu'à la plus grande valeur inférieure à Q3+1.5×IQR.\n",
    "Elles donnent une idée de l'étendue des données en dehors des 50% centraux.\n",
    "Les Valeurs Aberrantes (Outliers) :\n",
    "\n",
    "Les points de données qui se situent au-delà des extrémités des moustaches (c'est-à-dire, inférieurs à Q1−1.5×IQR ou supérieurs à Q3+1.5×IQR) sont souvent représentés individuellement par des points, des cercles ou des étoiles. Ils sont considérés comme de potentielles valeurs aberrantes.\n",
    "Interprétation\n",
    "\n",
    "Position de la médiane : Indique la valeur typique.\n",
    "Longueur de la boîte (IQR) : Mesure la dispersion des 50% centraux. Une boîte large = grande variabilité.\n",
    "Longueur des moustaches : Indique la dispersion des données restantes.\n",
    "Symétrie : Si la médiane est centrale et les moustaches symétriques, la distribution est probablement symétrique. Sinon, elle est asymétrique.\n",
    "Points individuels : Indiquent la présence de valeurs aberrantes.\n",
    "Utilité\n",
    "\n",
    "Idéal pour visualiser la distribution et comparer rapidement les distributions de plusieurs groupes."
   ]
  },
  {
   "cell_type": "code",
   "execution_count": 10,
   "id": "df2d395c-aeb3-4b11-b306-44997cb67b41",
   "metadata": {},
   "outputs": [
    {
     "data": {
      "image/png": "[encoded data removed]",
      "text/plain": [
       "<Figure size 800x500 with 1 Axes>"
      ]
     },
     "metadata": {},
     "output_type": "display_data"
    }
   ],
   "source": [
    "import seaborn as sns\n",
    "import matplotlib.pyplot as plt\n",
    "\n",
    "plt.figure(figsize=(8, 5))\n",
    "sns.histplot(data=df, x='charges', bins=30, c, color='skyblue')\n",
    "plt.title('Histogramme des charges médicales')\n",
    "plt.xlabel('Charges médicales')\n",
    "plt.ylabel('Nombre de patients')\n",
    "plt.show()\n"
   ]
  },
  {
   "cell_type": "code",
   "execution_count": 11,
   "id": "aea1b77c-aba3-47c9-beb8-4ded26387aa4",
   "metadata": {},
   "outputs": [
    {
     "data": {
      "text/plain": [
       "<Axes: xlabel='charges'>"
      ]
     },
     "execution_count": 11,
     "metadata": {},
     "output_type": "execute_result"
    },
    {
     "data": {
      "image/png": "[encoded data removed]",
      "text/plain": [
       "<Figure size 640x480 with 1 Axes>"
      ]
     },
     "metadata": {},
     "output_type": "display_data"
    }
   ],
   "source": [
    "sns.boxplot(data=df,x='charges')"
   ]
  },
  {
   "cell_type": "markdown",
   "id": "97592775-2cb9-4afe-840e-4bdd1c2efb00",
   "metadata": {},
   "source": [
    "**Les fumeurs paient-ils significativement plus ? (boxplot + moyenne)**"
   ]
  },
  {
   "cell_type": "code",
   "execution_count": 14,
   "id": "41b278d5-dfb0-4e1d-9220-73d1e034d88c",
   "metadata": {},
   "outputs": [
    {
     "data": {
      "image/png": "[encoded data removed]",
      "text/plain": [
       "<Figure size 640x480 with 1 Axes>"
      ]
     },
     "metadata": {},
     "output_type": "display_data"
    }
   ],
   "source": [
    "sns.boxplot(data=df,x='smoker',y='charges')\n",
    "plt.show()"
   ]
  },
  {
   "cell_type": "markdown",
   "id": "02b8bac3-5d74-46c3-ad2b-ce5e070870cb",
   "metadata": {},
   "source": [
    "**Le sexe influence-t-il les charges ? (groupby + boxplot)**"
   ]
  },
  {
   "cell_type": "code",
   "execution_count": 16,
   "id": "9114c5bc-0bba-4d27-9588-4d81d3f045aa",
   "metadata": {},
   "outputs": [
    {
     "data": {
      "image/png": "[encoded data removed]",
      "text/plain": [
       "<Figure size 640x480 with 1 Axes>"
      ]
     },
     "metadata": {},
     "output_type": "display_data"
    }
   ],
   "source": [
    "sns.boxplot(data=df,x='sex',y='charges')\n",
    "plt.show()"
   ]
  },
  {
   "cell_type": "markdown",
   "id": "86699466-2405-41f1-8862-81ecc55592cb",
   "metadata": {},
   "source": [
    "**Le sexe influence-t-il les charges ? (groupby + boxplot)**\n"
   ]
  },
  {
   "cell_type": "code",
   "execution_count": 24,
   "id": "0f1cfab6-9d30-4e69-8bf0-ad70e4ba248d",
   "metadata": {},
   "outputs": [
    {
     "data": {
      "image/png": "[encoded data removed]",
      "text/plain": [
       "<Figure size 640x480 with 1 Axes>"
      ]
     },
     "metadata": {},
     "output_type": "display_data"
    }
   ],
   "source": [
    "\n",
    "import pandas as pd\n",
    "import seaborn as sns\n",
    "import matplotlib.pyplot as plt\n",
    "\n",
    "df = pd.read_csv('medical_cost.csv')\n",
    "sns.boxplot(data=df, x='sex', y='charges')\n",
    "\n",
    "plt.show()"
   ]
  },
  {
   "cell_type": "code",
   "execution_count": 33,
   "id": "1d562be0-f608-42c8-ae09-9fd09ade23d2",
   "metadata": {},
   "outputs": [
    {
     "ename": "AttributeError",
     "evalue": "'DataFrame' object has no attribute 'groupy'",
     "output_type": "error",
     "traceback": [
      "\u001b[1;31m---------------------------------------------------------------------------\u001b[0m",
      "\u001b[1;31mAttributeError\u001b[0m                            Traceback (most recent call last)",
      "\u001b[1;32m~\\AppData\\Local\\Temp\\ipykernel_8480\\4051865065.py\u001b[0m in \u001b[0;36m?\u001b[1;34m()\u001b[0m\n\u001b[0;32m      1\u001b[0m \u001b[1;32mimport\u001b[0m \u001b[0mpandas\u001b[0m \u001b[1;32mas\u001b[0m \u001b[0mpd\u001b[0m\u001b[1;33m\u001b[0m\u001b[1;33m\u001b[0m\u001b[0m\n\u001b[0;32m      2\u001b[0m \u001b[1;32mimport\u001b[0m \u001b[0mnumpy\u001b[0m \u001b[1;32mas\u001b[0m \u001b[0mnp\u001b[0m\u001b[1;33m\u001b[0m\u001b[1;33m\u001b[0m\u001b[0m\n\u001b[0;32m      3\u001b[0m \u001b[1;32mimport\u001b[0m \u001b[0mmatplotlib\u001b[0m\u001b[1;33m.\u001b[0m\u001b[0mpyplot\u001b[0m \u001b[1;32mas\u001b[0m \u001b[0mplt\u001b[0m\u001b[1;33m\u001b[0m\u001b[1;33m\u001b[0m\u001b[0m\n\u001b[0;32m      4\u001b[0m \u001b[1;32mimport\u001b[0m \u001b[0mseaborn\u001b[0m \u001b[1;32mas\u001b[0m \u001b[0mans\u001b[0m\u001b[1;33m\u001b[0m\u001b[1;33m\u001b[0m\u001b[0m\n\u001b[1;32m----> 5\u001b[1;33m \u001b[0mLe_sexe_influence_t_il_les_charges\u001b[0m\u001b[1;33m=\u001b[0m\u001b[0mdf\u001b[0m\u001b[1;33m.\u001b[0m\u001b[0mgroupy\u001b[0m\u001b[1;33m(\u001b[0m\u001b[1;34m'charges'\u001b[0m\u001b[1;33m)\u001b[0m\u001b[1;33m[\u001b[0m\u001b[1;34m'sex'\u001b[0m\u001b[1;33m]\u001b[0m\u001b[1;33m.\u001b[0m\u001b[0mmean\u001b[0m\u001b[1;33m(\u001b[0m\u001b[1;33m)\u001b[0m\u001b[1;33m\u001b[0m\u001b[1;33m\u001b[0m\u001b[0m\n\u001b[0m\u001b[0;32m      6\u001b[0m \u001b[0mLe_sexe_influence_t_il_les_charges\u001b[0m\u001b[1;33m\u001b[0m\u001b[1;33m\u001b[0m\u001b[0m\n",
      "\u001b[1;32m~\\anaconda3\\Lib\\site-packages\\pandas\\core\\generic.py\u001b[0m in \u001b[0;36m?\u001b[1;34m(self, name)\u001b[0m\n\u001b[0;32m   6295\u001b[0m             \u001b[1;32mand\u001b[0m \u001b[0mname\u001b[0m \u001b[1;32mnot\u001b[0m \u001b[1;32min\u001b[0m \u001b[0mself\u001b[0m\u001b[1;33m.\u001b[0m\u001b[0m_accessors\u001b[0m\u001b[1;33m\u001b[0m\u001b[1;33m\u001b[0m\u001b[0m\n\u001b[0;32m   6296\u001b[0m             \u001b[1;32mand\u001b[0m \u001b[0mself\u001b[0m\u001b[1;33m.\u001b[0m\u001b[0m_info_axis\u001b[0m\u001b[1;33m.\u001b[0m\u001b[0m_can_hold_identifiers_and_holds_name\u001b[0m\u001b[1;33m(\u001b[0m\u001b[0mname\u001b[0m\u001b[1;33m)\u001b[0m\u001b[1;33m\u001b[0m\u001b[1;33m\u001b[0m\u001b[0m\n\u001b[0;32m   6297\u001b[0m         \u001b[1;33m)\u001b[0m\u001b[1;33m:\u001b[0m\u001b[1;33m\u001b[0m\u001b[1;33m\u001b[0m\u001b[0m\n\u001b[0;32m   6298\u001b[0m             \u001b[1;32mreturn\u001b[0m \u001b[0mself\u001b[0m\u001b[1;33m[\u001b[0m\u001b[0mname\u001b[0m\u001b[1;33m]\u001b[0m\u001b[1;33m\u001b[0m\u001b[1;33m\u001b[0m\u001b[0m\n\u001b[1;32m-> 6299\u001b[1;33m         \u001b[1;32mreturn\u001b[0m \u001b[0mobject\u001b[0m\u001b[1;33m.\u001b[0m\u001b[0m__getattribute__\u001b[0m\u001b[1;33m(\u001b[0m\u001b[0mself\u001b[0m\u001b[1;33m,\u001b[0m \u001b[0mname\u001b[0m\u001b[1;33m)\u001b[0m\u001b[1;33m\u001b[0m\u001b[1;33m\u001b[0m\u001b[0m\n\u001b[0m",
      "\u001b[1;31mAttributeError\u001b[0m: 'DataFrame' object has no attribute 'groupy'"
     ]
    }
   ],
   "source": [
    "import pandas as pd\n",
    "import numpy as np\n",
    "import matplotlib.pyplot as plt\n",
    "import seaborn as ans\n",
    "Le_sexe_influence_t_il_les_charges=df.groupy('charges')['sex'].mean() \n",
    "Le_sexe_influence_t_il_les_charges"
   ]
  },
  {
   "cell_type": "code",
   "execution_count": 34,
   "id": "ea667629-166c-444c-8587-e5b08b138604",
   "metadata": {},
   "outputs": [
    {
     "name": "stdout",
     "output_type": "stream",
     "text": [
      "sex\n",
      "female    12569.578844\n",
      "male      13956.751178\n",
      "Name: charges, dtype: float64\n"
     ]
    }
   ],
   "source": [
    "moyenne_charges_par_sexe = df.groupby('sex')['charges'].mean()\n",
    "print(moyenne_charges_par_sexe)"
   ]
  },
  {
   "cell_type": "markdown",
   "id": "9a27e2ae-a9e3-4622-8f8d-94970e79b461",
   "metadata": {},
   "source": [
    "**Le nombre d’enfants influe-t-il sur les charges ? (analyse par groupe + boxplot)**"
   ]
  },
  {
   "cell_type": "code",
   "execution_count": 5,
   "id": "3a86747e-6a75-49e7-8a2e-9cfdf7149ef1",
   "metadata": {},
   "outputs": [
    {
     "data": {
      "image/png": "[encoded data removed]",
      "text/plain": [
       "<Figure size 640x480 with 1 Axes>"
      ]
     },
     "metadata": {},
     "output_type": "display_data"
    }
   ],
   "source": [
    "import pandas as pd\n",
    "import numpy as np\n",
    "import matplotlib.pyplot as plt\n",
    "import seaborn as ans\n",
    "\n",
    "df = pd.read_csv('medical_cost.csv')\n",
    "sns.boxplot(data=df,x='children',y='charges',hue='children')\n",
    "\n",
    "plt.show()"
   ]
  },
  {
   "cell_type": "code",
   "execution_count": 6,
   "id": "dd263abe-1d65-4945-814c-6fc86c58aa24",
   "metadata": {},
   "outputs": [
    {
     "data": {
      "text/plain": [
       "children\n",
       "0    12365.975602\n",
       "1    12731.171832\n",
       "2    15073.563734\n",
       "3    15355.318367\n",
       "4    13850.656311\n",
       "5     8786.035247\n",
       "Name: charges, dtype: float64"
      ]
     },
     "execution_count": 6,
     "metadata": {},
     "output_type": "execute_result"
    }
   ],
   "source": [
    "import pandas as pd\n",
    "import numpy as np\n",
    "import matplotlib.pyplot as plt\n",
    "import seaborn as ans\n",
    "\n",
    "df = pd.read_csv('medical_cost.csv')\n",
    "df.groupby('children')['charges'].mean()"
   ]
  },
  {
   "cell_type": "markdown",
   "id": "d6a2255a-0c83-49a3-9b4f-f1ebf4e35290",
   "metadata": {},
   "source": [
    "**Quel est l’effet de l’indice de masse corporelle (IMC) sur les charges ?**"
   ]
  },
  {
   "cell_type": "code",
   "execution_count": 25,
   "id": "28cbac72-fea8-4049-a80d-ae1adc521196",
   "metadata": {},
   "outputs": [
    {
     "ename": "NameError",
     "evalue": "name 'sm' is not defined",
     "output_type": "error",
     "traceback": [
      "\u001b[1;31m---------------------------------------------------------------------------\u001b[0m",
      "\u001b[1;31mNameError\u001b[0m                                 Traceback (most recent call last)",
      "Cell \u001b[1;32mIn[25], line 7\u001b[0m\n\u001b[0;32m      4\u001b[0m plt\u001b[38;5;241m.\u001b[39mxlabel(\u001b[38;5;124m\"\u001b[39m\u001b[38;5;124mIMC (bmi)\u001b[39m\u001b[38;5;124m\"\u001b[39m)\n\u001b[0;32m      5\u001b[0m plt\u001b[38;5;241m.\u001b[39mylabel(\u001b[38;5;124m\"\u001b[39m\u001b[38;5;124mCharges\u001b[39m\u001b[38;5;124m\"\u001b[39m)\n\u001b[1;32m----> 7\u001b[0m X \u001b[38;5;241m=\u001b[39m sm\u001b[38;5;241m.\u001b[39madd_constant(df[\u001b[38;5;124m'\u001b[39m\u001b[38;5;124mbmi\u001b[39m\u001b[38;5;124m'\u001b[39m])  \u001b[38;5;66;03m# Ajout de l’ordonnée à l’origine\u001b[39;00m\n\u001b[0;32m      8\u001b[0m y \u001b[38;5;241m=\u001b[39m df[\u001b[38;5;124m'\u001b[39m\u001b[38;5;124mcharges\u001b[39m\u001b[38;5;124m'\u001b[39m]\n\u001b[0;32m      9\u001b[0m model \u001b[38;5;241m=\u001b[39m sm\u001b[38;5;241m.\u001b[39mOLS(y, X)\u001b[38;5;241m.\u001b[39mfit()\n",
      "\u001b[1;31mNameError\u001b[0m: name 'sm' is not defined"
     ]
    },
    {
     "data": {
      "image/png": "[encoded data removed]",
      "text/plain": [
       "<Figure size 640x480 with 1 Axes>"
      ]
     },
     "metadata": {},
     "output_type": "display_data"
    }
   ],
   "source": [
    "# Visualisation : nuage de points + droite de régression\n",
    "sns.regplot(data=df, x='bmi', y='charges',color='green')\n",
    "plt.title(\"Relation entre l'IMC (bmi) et les charges (Nuage de points)\")\n",
    "plt.xlabel(\"IMC (bmi)\")\n",
    "plt.ylabel(\"Charges\")\n",
    "\n",
    "X = sm.add_constant(df['bmi'])  # Ajout de l’ordonnée à l’origine\n",
    "y = df['charges']\n",
    "model = sm.OLS(y, X).fit()\n",
    "print(model.summary())\n",
    "plt.show()\n"
   ]
  },
  {
   "cell_type": "markdown",
   "id": "c7ae92ac-19a3-4f5b-91bf-570c6c512864",
   "metadata": {},
   "source": [
    "Une droite de régression est une ligne qui montre la tendance d'une relation entre deux variables dans un graphique. En utilisant des bibliothèques comme Seaborn en Python, vous pouvez créer cette droite automatiquement avec des fonctions comme sns.regplot() ou sns.lmplot(). Ces fonctions calculent la ligne qui s'ajuste le mieux aux données et la tracent sur le graphique, souvent avec un intervalle de confiance. Vous pouvez personnaliser l'apparence de cette ligne (comme sa couleur) en utilisant des arguments tels que color ou line_kws."
   ]
  },
  {
   "cell_type": "code",
   "execution_count": 18,
   "id": "500cfce8-b53e-4245-900d-04044a5210d5",
   "metadata": {},
   "outputs": [
    {
     "data": {
      "image/png": "[encoded data removed]",
      "text/plain": [
       "<Figure size 800x600 with 1 Axes>"
      ]
     },
     "metadata": {},
     "output_type": "display_data"
    },
    {
     "data": {
      "image/png": "[encoded data removed]",
      "text/plain": [
       "<Figure size 900x600 with 1 Axes>"
      ]
     },
     "metadata": {},
     "output_type": "display_data"
    },
    {
     "data": {
      "image/png": "[encoded data removed]",
      "text/plain": [
       "<Figure size 800x600 with 1 Axes>"
      ]
     },
     "metadata": {},
     "output_type": "display_data"
    }
   ],
   "source": [
    "import seaborn as sns\n",
    "import matplotlib.pyplot as plt\n",
    "import pandas as pd\n",
    "import numpy as np\n",
    "\n",
    "# Création d'un exemple de données pour la démonstration\n",
    "# Nous allons créer un DataFrame simple avec une relation linéaire approximative\n",
    "np.random.seed(0) # Pour rendre les résultats reproductibles\n",
    "data = {\n",
    "    'X': np.random.rand(100) * 10, # Variable indépendante (x)\n",
    "    'Y': 2 * (np.random.rand(100) * 10) + 5 + np.random.randn(100) * 5 # Variable dépendante (y) avec du bruit\n",
    "}\n",
    "df_example = pd.DataFrame(data)\n",
    "\n",
    "# --- Exemple 1: Utilisation de sns.regplot() ---\n",
    "# regplot est idéal pour ajouter une droite de régression sur un nuage de points existant\n",
    "# ou pour tracer directement points + droite.\n",
    "\n",
    "plt.figure(figsize=(8, 6)) # Crée une figure pour ce graphique\n",
    "sns.regplot(data=df_example, x='X', y='Y', color='green') # Trace points + droite de régression en vert\n",
    "\n",
    "plt.title(\"Regplot: Droite de régression en vert\")\n",
    "plt.xlabel(\"Variable X\")\n",
    "plt.ylabel(\"Variable Y\")\n",
    "plt.grid(True) # Ajoute une grille pour une meilleure lisibilité\n",
    "plt.show()\n",
    "\n",
    "# --- Exemple 2: Utilisation de sns.lmplot() ---\n",
    "# lmplot est plus adapté pour des graphiques de régression avec des facettes (sous-graphiques)\n",
    "# et utilise l'argument line_kws pour styliser la ligne.\n",
    "\n",
    "# lmplot crée sa propre figure, donc pas besoin de plt.figure() ici\n",
    "g = sns.lmplot(data=df_example, x='X', y='Y',\n",
    "               height=6, aspect=1.5, # Ajuste la taille de la figure\n",
    "               line_kws={'color': 'purple', 'linestyle': '--', 'linewidth': 2}) # Stylise la ligne\n",
    "\n",
    "# line_kws prend un dictionnaire de paramètres pour la ligne:\n",
    "# 'color': définit la couleur de la ligne (ici, violet)\n",
    "# 'linestyle': définit le style de la ligne (ici, tirets)\n",
    "# 'linewidth': définit l'épaisseur de la ligne (ici, 2 pixels)\n",
    "\n",
    "g.fig.suptitle(\"Lmplot: Droite de régression en violet (tirets)\", y=1.02) # Ajoute un titre à la figure entière\n",
    "g.set_axis_labels(\"Variable X\", \"Variable Y\") # Définit les étiquettes des axes\n",
    "\n",
    "plt.show()\n",
    "\n",
    "# --- Exemple 3: Combiner scatterplot et regplot (comme vu précédemment) ---\n",
    "# Pour avoir un contrôle total sur les points et la ligne sur les mêmes axes\n",
    "\n",
    "fig, ax = plt.subplots(figsize=(8, 6)) # Crée une figure et des axes\n",
    "\n",
    "# Trace le nuage de points en bleu clair\n",
    "sns.scatterplot(data=df_example, x='X', y='Y', color='skyblue', ax=ax)\n",
    "\n",
    "# Ajoute la droite de régression en rouge sur les mêmes axes, sans retracer les points\n",
    "sns.regplot(data=df_example, x='X', y='Y', scatter=False, color='red', ax=ax)\n",
    "\n",
    "plt.title(\"Scatterplot + Regplot: Points bleus et droite rouge\")\n",
    "plt.xlabel(\"Variable X\")\n",
    "plt.ylabel(\"Variable Y\")\n",
    "plt.grid(True)\n",
    "plt.show()\n"
   ]
  },
  {
   "cell_type": "code",
   "execution_count": 24,
   "id": "6639557a-bfe9-4835-8e14-1b7404c9ea64",
   "metadata": {},
   "outputs": [
    {
     "ename": "NameError",
     "evalue": "name 'sm' is not defined",
     "output_type": "error",
     "traceback": [
      "\u001b[1;31m---------------------------------------------------------------------------\u001b[0m",
      "\u001b[1;31mNameError\u001b[0m                                 Traceback (most recent call last)",
      "Cell \u001b[1;32mIn[24], line 1\u001b[0m\n\u001b[1;32m----> 1\u001b[0m X \u001b[38;5;241m=\u001b[39m sm\u001b[38;5;241m.\u001b[39madd_constant(df[\u001b[38;5;124m'\u001b[39m\u001b[38;5;124mbmi\u001b[39m\u001b[38;5;124m'\u001b[39m])  \u001b[38;5;66;03m# Ajout de l’ordonnée à l’origine\u001b[39;00m\n\u001b[0;32m      2\u001b[0m y \u001b[38;5;241m=\u001b[39m df[\u001b[38;5;124m'\u001b[39m\u001b[38;5;124mcharges\u001b[39m\u001b[38;5;124m'\u001b[39m]\n\u001b[0;32m      3\u001b[0m model \u001b[38;5;241m=\u001b[39m sm\u001b[38;5;241m.\u001b[39mOLS(y, X)\u001b[38;5;241m.\u001b[39mfit()\n",
      "\u001b[1;31mNameError\u001b[0m: name 'sm' is not defined"
     ]
    }
   ],
   "source": [
    "X = sm.add_constant(df['bmi'])  # Ajout de l’ordonnée à l’origine\n",
    "y = df['charges']\n",
    "model = sm.OLS(y, X).fit()\n",
    "print(model.summary())"
   ]
  },
  {
   "cell_type": "code",
   "execution_count": null,
   "id": "94a86c19-efd6-4174-a0a3-cdcbd91e3414",
   "metadata": {},
   "outputs": [],
   "source": []
  }
 ],
 "metadata": {
  "kernelspec": {
   "display_name": "Python 3 (ipykernel)",
   "language": "python",
   "name": "python3"
  },
  "language_info": {
   "codemirror_mode": {
    "name": "ipython",
    "version": 3
   },
   "file_extension": ".py",
   "mimetype": "text/x-python",
   "name": "python",
   "nbconvert_exporter": "python",
   "pygments_lexer": "ipython3",
   "version": "3.12.4"
  }
 },
 "nbformat": 4,
 "nbformat_minor": 5
}
